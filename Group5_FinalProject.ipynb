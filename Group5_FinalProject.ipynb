{
 "cells": [
  {
   "cell_type": "code",
   "execution_count": 1,
   "id": "ba9268db",
   "metadata": {},
   "outputs": [],
   "source": [
    "import pandas as pd\n",
    "import numpy as np\n",
    "import matplotlib.pyplot as plt"
   ]
  },
  {
   "cell_type": "code",
   "execution_count": 2,
   "id": "7bf611e5",
   "metadata": {},
   "outputs": [
    {
     "name": "stdout",
     "output_type": "stream",
     "text": [
      "Fraud Count 87403\n",
      "Length 174805\n"
     ]
    },
    {
     "data": {
      "text/html": [
       "<div>\n",
       "<style scoped>\n",
       "    .dataframe tbody tr th:only-of-type {\n",
       "        vertical-align: middle;\n",
       "    }\n",
       "\n",
       "    .dataframe tbody tr th {\n",
       "        vertical-align: top;\n",
       "    }\n",
       "\n",
       "    .dataframe thead th {\n",
       "        text-align: right;\n",
       "    }\n",
       "</style>\n",
       "<table border=\"1\" class=\"dataframe\">\n",
       "  <thead>\n",
       "    <tr style=\"text-align: right;\">\n",
       "      <th></th>\n",
       "      <th>distance_from_home</th>\n",
       "      <th>distance_from_last_transaction</th>\n",
       "      <th>ratio_to_median_purchase_price</th>\n",
       "      <th>repeat_retailer</th>\n",
       "      <th>used_chip</th>\n",
       "      <th>used_pin_number</th>\n",
       "      <th>online_order</th>\n",
       "      <th>fraud</th>\n",
       "    </tr>\n",
       "  </thead>\n",
       "  <tbody>\n",
       "    <tr>\n",
       "      <th>174800</th>\n",
       "      <td>4.421777</td>\n",
       "      <td>566.926046</td>\n",
       "      <td>2.093019</td>\n",
       "      <td>1</td>\n",
       "      <td>1</td>\n",
       "      <td>1</td>\n",
       "      <td>1</td>\n",
       "      <td>0</td>\n",
       "    </tr>\n",
       "    <tr>\n",
       "      <th>174801</th>\n",
       "      <td>39.628811</td>\n",
       "      <td>6.900791</td>\n",
       "      <td>0.226182</td>\n",
       "      <td>1</td>\n",
       "      <td>0</td>\n",
       "      <td>0</td>\n",
       "      <td>0</td>\n",
       "      <td>0</td>\n",
       "    </tr>\n",
       "    <tr>\n",
       "      <th>174802</th>\n",
       "      <td>9.027388</td>\n",
       "      <td>0.067260</td>\n",
       "      <td>1.744743</td>\n",
       "      <td>1</td>\n",
       "      <td>1</td>\n",
       "      <td>0</td>\n",
       "      <td>1</td>\n",
       "      <td>0</td>\n",
       "    </tr>\n",
       "    <tr>\n",
       "      <th>174803</th>\n",
       "      <td>2.177936</td>\n",
       "      <td>0.212883</td>\n",
       "      <td>2.001168</td>\n",
       "      <td>1</td>\n",
       "      <td>0</td>\n",
       "      <td>0</td>\n",
       "      <td>0</td>\n",
       "      <td>0</td>\n",
       "    </tr>\n",
       "    <tr>\n",
       "      <th>174804</th>\n",
       "      <td>24.709860</td>\n",
       "      <td>28.943255</td>\n",
       "      <td>1.962611</td>\n",
       "      <td>1</td>\n",
       "      <td>0</td>\n",
       "      <td>0</td>\n",
       "      <td>0</td>\n",
       "      <td>0</td>\n",
       "    </tr>\n",
       "  </tbody>\n",
       "</table>\n",
       "</div>"
      ],
      "text/plain": [
       "        distance_from_home  distance_from_last_transaction  \\\n",
       "174800            4.421777                      566.926046   \n",
       "174801           39.628811                        6.900791   \n",
       "174802            9.027388                        0.067260   \n",
       "174803            2.177936                        0.212883   \n",
       "174804           24.709860                       28.943255   \n",
       "\n",
       "        ratio_to_median_purchase_price  repeat_retailer  used_chip  \\\n",
       "174800                        2.093019                1          1   \n",
       "174801                        0.226182                1          0   \n",
       "174802                        1.744743                1          1   \n",
       "174803                        2.001168                1          0   \n",
       "174804                        1.962611                1          0   \n",
       "\n",
       "        used_pin_number  online_order  fraud  \n",
       "174800                1             1      0  \n",
       "174801                0             0      0  \n",
       "174802                0             1      0  \n",
       "174803                0             0      0  \n",
       "174804                0             0      0  "
      ]
     },
     "execution_count": 2,
     "metadata": {},
     "output_type": "execute_result"
    }
   ],
   "source": [
    "# Read the data from the CSV file\n",
    "df = pd.read_csv('modified5050_card_transdata.csv')\n",
    "\n",
    "fraud_count = df[df['fraud'] != 0].shape[0]\n",
    "print(f\"Fraud Count {fraud_count}\")\n",
    "\n",
    "length_before = df.shape[0]\n",
    "print(f\"Length {length_before}\")\n",
    "\n",
    "df.tail()"
   ]
  },
  {
   "cell_type": "code",
   "execution_count": 3,
   "id": "9d4328e5",
   "metadata": {},
   "outputs": [
    {
     "name": "stdout",
     "output_type": "stream",
     "text": [
      "Duplicated values dropped succesfully\n",
      "The length before 174805 length after 174805\n"
     ]
    }
   ],
   "source": [
    "## drop duplicates\n",
    "\n",
    "df.drop_duplicates(inplace=True)\n",
    "print(\"Duplicated values dropped succesfully\")\n",
    "\n",
    "length_after = df.shape[0]\n",
    "\n",
    "print(f\"The length before {length_before} length after {length_after}\")"
   ]
  },
  {
   "cell_type": "code",
   "execution_count": 4,
   "id": "20f21d1f",
   "metadata": {},
   "outputs": [
    {
     "name": "stderr",
     "output_type": "stream",
     "text": [
      "/usr/lib/python3/dist-packages/scipy/__init__.py:146: UserWarning: A NumPy version >=1.17.3 and <1.25.0 is required for this version of SciPy (detected version 1.26.4\n",
      "  warnings.warn(f\"A NumPy version >={np_minversion} and <{np_maxversion}\"\n"
     ]
    }
   ],
   "source": [
    "from sklearn.model_selection import train_test_split\n",
    "from sklearn.preprocessing import StandardScaler\n",
    "\n",
    "X = df.drop([\"fraud\"], axis=1)\n",
    "y = df[\"fraud\"]\n",
    "\n",
    "X_temp, X_test, y_temp, y_test = train_test_split(X, y, test_size=0.4, random_state=42, stratify=y)\n",
    "\n",
    "X_train, X_val, y_train, y_val = train_test_split(X_temp, y_temp, test_size=0.25, random_state=42, stratify=y_temp)\n",
    "\n",
    "# normalize data\n",
    "scaler = StandardScaler()\n",
    "X_train = scaler.fit_transform(X_train)\n",
    "X_val = scaler.transform(X_val)\n",
    "X_test = scaler.transform(X_test)"
   ]
  },
  {
   "cell_type": "code",
   "execution_count": 5,
   "id": "98a54117-0c93-483b-b276-6877ed256983",
   "metadata": {},
   "outputs": [
    {
     "data": {
      "text/plain": [
       "174805"
      ]
     },
     "execution_count": 5,
     "metadata": {},
     "output_type": "execute_result"
    }
   ],
   "source": [
    "len(X_val) + len(X_train) + len(X_test)"
   ]
  },
  {
   "cell_type": "code",
   "execution_count": 6,
   "id": "48b2497d",
   "metadata": {},
   "outputs": [
    {
     "name": "stderr",
     "output_type": "stream",
     "text": [
      "2024-04-20 15:36:42.024180: I tensorflow/core/platform/cpu_feature_guard.cc:210] This TensorFlow binary is optimized to use available CPU instructions in performance-critical operations.\n",
      "To enable the following instructions: AVX2 FMA, in other operations, rebuild TensorFlow with the appropriate compiler flags.\n",
      "2024-04-20 15:36:43.041873: W tensorflow/compiler/tf2tensorrt/utils/py_utils.cc:38] TF-TRT Warning: Could not find TensorRT\n",
      "/home/corey/.local/lib/python3.10/site-packages/keras/src/layers/core/dense.py:86: UserWarning: Do not pass an `input_shape`/`input_dim` argument to a layer. When using Sequential models, prefer using an `Input(shape)` object as the first layer in the model instead.\n",
      "  super().__init__(activity_regularizer=activity_regularizer, **kwargs)\n",
      "2024-04-20 15:36:43.827796: I external/local_xla/xla/stream_executor/cuda/cuda_executor.cc:998] successful NUMA node read from SysFS had negative value (-1), but there must be at least one NUMA node, so returning NUMA node zero. See more at https://github.com/torvalds/linux/blob/v6.0/Documentation/ABI/testing/sysfs-bus-pci#L344-L355\n",
      "2024-04-20 15:36:44.000957: W tensorflow/core/common_runtime/gpu/gpu_device.cc:2251] Cannot dlopen some GPU libraries. Please make sure the missing libraries mentioned above are installed properly if you would like to use GPU. Follow the guide at https://www.tensorflow.org/install/gpu for how to download and setup the required libraries for your platform.\n",
      "Skipping registering GPU devices...\n"
     ]
    },
    {
     "data": {
      "text/html": [
       "<pre style=\"white-space:pre;overflow-x:auto;line-height:normal;font-family:Menlo,'DejaVu Sans Mono',consolas,'Courier New',monospace\"><span style=\"font-weight: bold\">Model: \"sequential\"</span>\n",
       "</pre>\n"
      ],
      "text/plain": [
       "\u001b[1mModel: \"sequential\"\u001b[0m\n"
      ]
     },
     "metadata": {},
     "output_type": "display_data"
    },
    {
     "data": {
      "text/html": [
       "<pre style=\"white-space:pre;overflow-x:auto;line-height:normal;font-family:Menlo,'DejaVu Sans Mono',consolas,'Courier New',monospace\">┏━━━━━━━━━━━━━━━━━━━━━━━━━━━━━━━━━┳━━━━━━━━━━━━━━━━━━━━━━━━┳━━━━━━━━━━━━━━━┓\n",
       "┃<span style=\"font-weight: bold\"> Layer (type)                    </span>┃<span style=\"font-weight: bold\"> Output Shape           </span>┃<span style=\"font-weight: bold\">       Param # </span>┃\n",
       "┡━━━━━━━━━━━━━━━━━━━━━━━━━━━━━━━━━╇━━━━━━━━━━━━━━━━━━━━━━━━╇━━━━━━━━━━━━━━━┩\n",
       "│ dense (<span style=\"color: #0087ff; text-decoration-color: #0087ff\">Dense</span>)                   │ (<span style=\"color: #00d7ff; text-decoration-color: #00d7ff\">None</span>, <span style=\"color: #00af00; text-decoration-color: #00af00\">128</span>)            │         <span style=\"color: #00af00; text-decoration-color: #00af00\">1,024</span> │\n",
       "├─────────────────────────────────┼────────────────────────┼───────────────┤\n",
       "│ dropout (<span style=\"color: #0087ff; text-decoration-color: #0087ff\">Dropout</span>)               │ (<span style=\"color: #00d7ff; text-decoration-color: #00d7ff\">None</span>, <span style=\"color: #00af00; text-decoration-color: #00af00\">128</span>)            │             <span style=\"color: #00af00; text-decoration-color: #00af00\">0</span> │\n",
       "├─────────────────────────────────┼────────────────────────┼───────────────┤\n",
       "│ dense_1 (<span style=\"color: #0087ff; text-decoration-color: #0087ff\">Dense</span>)                 │ (<span style=\"color: #00d7ff; text-decoration-color: #00d7ff\">None</span>, <span style=\"color: #00af00; text-decoration-color: #00af00\">64</span>)             │         <span style=\"color: #00af00; text-decoration-color: #00af00\">8,256</span> │\n",
       "├─────────────────────────────────┼────────────────────────┼───────────────┤\n",
       "│ dropout_1 (<span style=\"color: #0087ff; text-decoration-color: #0087ff\">Dropout</span>)             │ (<span style=\"color: #00d7ff; text-decoration-color: #00d7ff\">None</span>, <span style=\"color: #00af00; text-decoration-color: #00af00\">64</span>)             │             <span style=\"color: #00af00; text-decoration-color: #00af00\">0</span> │\n",
       "├─────────────────────────────────┼────────────────────────┼───────────────┤\n",
       "│ dense_2 (<span style=\"color: #0087ff; text-decoration-color: #0087ff\">Dense</span>)                 │ (<span style=\"color: #00d7ff; text-decoration-color: #00d7ff\">None</span>, <span style=\"color: #00af00; text-decoration-color: #00af00\">1</span>)              │            <span style=\"color: #00af00; text-decoration-color: #00af00\">65</span> │\n",
       "└─────────────────────────────────┴────────────────────────┴───────────────┘\n",
       "</pre>\n"
      ],
      "text/plain": [
       "┏━━━━━━━━━━━━━━━━━━━━━━━━━━━━━━━━━┳━━━━━━━━━━━━━━━━━━━━━━━━┳━━━━━━━━━━━━━━━┓\n",
       "┃\u001b[1m \u001b[0m\u001b[1mLayer (type)                   \u001b[0m\u001b[1m \u001b[0m┃\u001b[1m \u001b[0m\u001b[1mOutput Shape          \u001b[0m\u001b[1m \u001b[0m┃\u001b[1m \u001b[0m\u001b[1m      Param #\u001b[0m\u001b[1m \u001b[0m┃\n",
       "┡━━━━━━━━━━━━━━━━━━━━━━━━━━━━━━━━━╇━━━━━━━━━━━━━━━━━━━━━━━━╇━━━━━━━━━━━━━━━┩\n",
       "│ dense (\u001b[38;5;33mDense\u001b[0m)                   │ (\u001b[38;5;45mNone\u001b[0m, \u001b[38;5;34m128\u001b[0m)            │         \u001b[38;5;34m1,024\u001b[0m │\n",
       "├─────────────────────────────────┼────────────────────────┼───────────────┤\n",
       "│ dropout (\u001b[38;5;33mDropout\u001b[0m)               │ (\u001b[38;5;45mNone\u001b[0m, \u001b[38;5;34m128\u001b[0m)            │             \u001b[38;5;34m0\u001b[0m │\n",
       "├─────────────────────────────────┼────────────────────────┼───────────────┤\n",
       "│ dense_1 (\u001b[38;5;33mDense\u001b[0m)                 │ (\u001b[38;5;45mNone\u001b[0m, \u001b[38;5;34m64\u001b[0m)             │         \u001b[38;5;34m8,256\u001b[0m │\n",
       "├─────────────────────────────────┼────────────────────────┼───────────────┤\n",
       "│ dropout_1 (\u001b[38;5;33mDropout\u001b[0m)             │ (\u001b[38;5;45mNone\u001b[0m, \u001b[38;5;34m64\u001b[0m)             │             \u001b[38;5;34m0\u001b[0m │\n",
       "├─────────────────────────────────┼────────────────────────┼───────────────┤\n",
       "│ dense_2 (\u001b[38;5;33mDense\u001b[0m)                 │ (\u001b[38;5;45mNone\u001b[0m, \u001b[38;5;34m1\u001b[0m)              │            \u001b[38;5;34m65\u001b[0m │\n",
       "└─────────────────────────────────┴────────────────────────┴───────────────┘\n"
      ]
     },
     "metadata": {},
     "output_type": "display_data"
    },
    {
     "data": {
      "text/html": [
       "<pre style=\"white-space:pre;overflow-x:auto;line-height:normal;font-family:Menlo,'DejaVu Sans Mono',consolas,'Courier New',monospace\"><span style=\"font-weight: bold\"> Total params: </span><span style=\"color: #00af00; text-decoration-color: #00af00\">9,345</span> (36.50 KB)\n",
       "</pre>\n"
      ],
      "text/plain": [
       "\u001b[1m Total params: \u001b[0m\u001b[38;5;34m9,345\u001b[0m (36.50 KB)\n"
      ]
     },
     "metadata": {},
     "output_type": "display_data"
    },
    {
     "data": {
      "text/html": [
       "<pre style=\"white-space:pre;overflow-x:auto;line-height:normal;font-family:Menlo,'DejaVu Sans Mono',consolas,'Courier New',monospace\"><span style=\"font-weight: bold\"> Trainable params: </span><span style=\"color: #00af00; text-decoration-color: #00af00\">9,345</span> (36.50 KB)\n",
       "</pre>\n"
      ],
      "text/plain": [
       "\u001b[1m Trainable params: \u001b[0m\u001b[38;5;34m9,345\u001b[0m (36.50 KB)\n"
      ]
     },
     "metadata": {},
     "output_type": "display_data"
    },
    {
     "data": {
      "text/html": [
       "<pre style=\"white-space:pre;overflow-x:auto;line-height:normal;font-family:Menlo,'DejaVu Sans Mono',consolas,'Courier New',monospace\"><span style=\"font-weight: bold\"> Non-trainable params: </span><span style=\"color: #00af00; text-decoration-color: #00af00\">0</span> (0.00 B)\n",
       "</pre>\n"
      ],
      "text/plain": [
       "\u001b[1m Non-trainable params: \u001b[0m\u001b[38;5;34m0\u001b[0m (0.00 B)\n"
      ]
     },
     "metadata": {},
     "output_type": "display_data"
    },
    {
     "data": {
      "text/plain": [
       "'\\nmodel = tf.keras.Sequential(\\n    [\\n        # Adjusted number of neurons\\n        tf.keras.layers.Dense(128, activation=\"relu\", input_shape=(X.shape[-1],),\\n                              kernel_regularizer=regularizers.l2(0.001)),  # L2 regularization\\n        tf.keras.layers.Dropout(0.2),  # Adjusted dropout rate\\n        tf.keras.layers.Dense(64, activation=\"relu\",\\n                              kernel_regularizer=regularizers.l2(0.001)),  # L2 regularization\\n        tf.keras.layers.Dropout(0.2),  # Adjusted dropout rate\\n        tf.keras.layers.Dense(1, activation=\"sigmoid\"),\\n    ]\\n)\\nmodel.summary()\\n'"
      ]
     },
     "execution_count": 6,
     "metadata": {},
     "output_type": "execute_result"
    }
   ],
   "source": [
    "from keras.models import Sequential\n",
    "from keras.layers import Dense, Dropout\n",
    "\n",
    "model = Sequential()\n",
    "model.add(Dense(128, activation='relu', input_dim=7))\n",
    "model.add(Dropout(0.2))\n",
    "model.add(Dense(64, activation=\"relu\"))\n",
    "model.add(Dropout(0.2))\n",
    "model.add(Dense(1, activation=\"sigmoid\"))\n",
    "\n",
    "model.summary()\n",
    "\n",
    "'''\n",
    "model = tf.keras.Sequential(\n",
    "    [\n",
    "        # Adjusted number of neurons\n",
    "        tf.keras.layers.Dense(128, activation=\"relu\", input_shape=(X.shape[-1],),\n",
    "                              kernel_regularizer=regularizers.l2(0.001)),  # L2 regularization\n",
    "        tf.keras.layers.Dropout(0.2),  # Adjusted dropout rate\n",
    "        tf.keras.layers.Dense(64, activation=\"relu\",\n",
    "                              kernel_regularizer=regularizers.l2(0.001)),  # L2 regularization\n",
    "        tf.keras.layers.Dropout(0.2),  # Adjusted dropout rate\n",
    "        tf.keras.layers.Dense(1, activation=\"sigmoid\"),\n",
    "    ]\n",
    ")\n",
    "model.summary()\n",
    "'''"
   ]
  },
  {
   "cell_type": "code",
   "execution_count": 7,
   "id": "c653c741",
   "metadata": {},
   "outputs": [
    {
     "name": "stdout",
     "output_type": "stream",
     "text": [
      "Epoch 1/100\n",
      "\u001b[1m2459/2459\u001b[0m \u001b[32m━━━━━━━━━━━━━━━━━━━━\u001b[0m\u001b[37m\u001b[0m \u001b[1m3s\u001b[0m 926us/step - accuracy: 0.8704 - loss: 0.3854 - val_accuracy: 0.9682 - val_loss: 0.1113\n",
      "Epoch 2/100\n",
      "\u001b[1m2459/2459\u001b[0m \u001b[32m━━━━━━━━━━━━━━━━━━━━\u001b[0m\u001b[37m\u001b[0m \u001b[1m2s\u001b[0m 822us/step - accuracy: 0.9644 - loss: 0.1186 - val_accuracy: 0.9735 - val_loss: 0.0814\n",
      "Epoch 3/100\n",
      "\u001b[1m2459/2459\u001b[0m \u001b[32m━━━━━━━━━━━━━━━━━━━━\u001b[0m\u001b[37m\u001b[0m \u001b[1m2s\u001b[0m 865us/step - accuracy: 0.9688 - loss: 0.0890 - val_accuracy: 0.9769 - val_loss: 0.0671\n",
      "Epoch 4/100\n",
      "\u001b[1m2459/2459\u001b[0m \u001b[32m━━━━━━━━━━━━━━━━━━━━\u001b[0m\u001b[37m\u001b[0m \u001b[1m2s\u001b[0m 834us/step - accuracy: 0.9724 - loss: 0.0763 - val_accuracy: 0.9793 - val_loss: 0.0599\n",
      "Epoch 5/100\n",
      "\u001b[1m2459/2459\u001b[0m \u001b[32m━━━━━━━━━━━━━━━━━━━━\u001b[0m\u001b[37m\u001b[0m \u001b[1m2s\u001b[0m 864us/step - accuracy: 0.9773 - loss: 0.0650 - val_accuracy: 0.9815 - val_loss: 0.0537\n",
      "Epoch 6/100\n",
      "\u001b[1m2459/2459\u001b[0m \u001b[32m━━━━━━━━━━━━━━━━━━━━\u001b[0m\u001b[37m\u001b[0m \u001b[1m2s\u001b[0m 818us/step - accuracy: 0.9772 - loss: 0.0626 - val_accuracy: 0.9838 - val_loss: 0.0475\n",
      "Epoch 7/100\n",
      "\u001b[1m2459/2459\u001b[0m \u001b[32m━━━━━━━━━━━━━━━━━━━━\u001b[0m\u001b[37m\u001b[0m \u001b[1m2s\u001b[0m 846us/step - accuracy: 0.9787 - loss: 0.0569 - val_accuracy: 0.9850 - val_loss: 0.0434\n",
      "Epoch 8/100\n",
      "\u001b[1m2459/2459\u001b[0m \u001b[32m━━━━━━━━━━━━━━━━━━━━\u001b[0m\u001b[37m\u001b[0m \u001b[1m2s\u001b[0m 853us/step - accuracy: 0.9799 - loss: 0.0542 - val_accuracy: 0.9850 - val_loss: 0.0400\n",
      "Epoch 9/100\n",
      "\u001b[1m2459/2459\u001b[0m \u001b[32m━━━━━━━━━━━━━━━━━━━━\u001b[0m\u001b[37m\u001b[0m \u001b[1m2s\u001b[0m 904us/step - accuracy: 0.9829 - loss: 0.0501 - val_accuracy: 0.9867 - val_loss: 0.0359\n",
      "Epoch 10/100\n",
      "\u001b[1m2459/2459\u001b[0m \u001b[32m━━━━━━━━━━━━━━━━━━━━\u001b[0m\u001b[37m\u001b[0m \u001b[1m2s\u001b[0m 918us/step - accuracy: 0.9836 - loss: 0.0456 - val_accuracy: 0.9878 - val_loss: 0.0337\n",
      "Epoch 11/100\n",
      "\u001b[1m2459/2459\u001b[0m \u001b[32m━━━━━━━━━━━━━━━━━━━━\u001b[0m\u001b[37m\u001b[0m \u001b[1m3s\u001b[0m 1ms/step - accuracy: 0.9849 - loss: 0.0424 - val_accuracy: 0.9887 - val_loss: 0.0307\n",
      "Epoch 12/100\n",
      "\u001b[1m2459/2459\u001b[0m \u001b[32m━━━━━━━━━━━━━━━━━━━━\u001b[0m\u001b[37m\u001b[0m \u001b[1m3s\u001b[0m 1ms/step - accuracy: 0.9848 - loss: 0.0419 - val_accuracy: 0.9887 - val_loss: 0.0302\n",
      "Epoch 13/100\n",
      "\u001b[1m2459/2459\u001b[0m \u001b[32m━━━━━━━━━━━━━━━━━━━━\u001b[0m\u001b[37m\u001b[0m \u001b[1m3s\u001b[0m 1ms/step - accuracy: 0.9852 - loss: 0.0393 - val_accuracy: 0.9905 - val_loss: 0.0266\n",
      "Epoch 14/100\n",
      "\u001b[1m2459/2459\u001b[0m \u001b[32m━━━━━━━━━━━━━━━━━━━━\u001b[0m\u001b[37m\u001b[0m \u001b[1m3s\u001b[0m 1ms/step - accuracy: 0.9869 - loss: 0.0377 - val_accuracy: 0.9897 - val_loss: 0.0267\n",
      "Epoch 15/100\n",
      "\u001b[1m2459/2459\u001b[0m \u001b[32m━━━━━━━━━━━━━━━━━━━━\u001b[0m\u001b[37m\u001b[0m \u001b[1m3s\u001b[0m 1ms/step - accuracy: 0.9870 - loss: 0.0364 - val_accuracy: 0.9904 - val_loss: 0.0250\n",
      "Epoch 16/100\n",
      "\u001b[1m2459/2459\u001b[0m \u001b[32m━━━━━━━━━━━━━━━━━━━━\u001b[0m\u001b[37m\u001b[0m \u001b[1m3s\u001b[0m 1ms/step - accuracy: 0.9882 - loss: 0.0338 - val_accuracy: 0.9906 - val_loss: 0.0235\n",
      "Epoch 17/100\n",
      "\u001b[1m2459/2459\u001b[0m \u001b[32m━━━━━━━━━━━━━━━━━━━━\u001b[0m\u001b[37m\u001b[0m \u001b[1m3s\u001b[0m 1ms/step - accuracy: 0.9885 - loss: 0.0326 - val_accuracy: 0.9909 - val_loss: 0.0232\n",
      "Epoch 18/100\n",
      "\u001b[1m2459/2459\u001b[0m \u001b[32m━━━━━━━━━━━━━━━━━━━━\u001b[0m\u001b[37m\u001b[0m \u001b[1m3s\u001b[0m 1ms/step - accuracy: 0.9888 - loss: 0.0316 - val_accuracy: 0.9923 - val_loss: 0.0210\n",
      "Epoch 19/100\n",
      "\u001b[1m2459/2459\u001b[0m \u001b[32m━━━━━━━━━━━━━━━━━━━━\u001b[0m\u001b[37m\u001b[0m \u001b[1m3s\u001b[0m 1ms/step - accuracy: 0.9887 - loss: 0.0309 - val_accuracy: 0.9932 - val_loss: 0.0199\n",
      "Epoch 20/100\n",
      "\u001b[1m2459/2459\u001b[0m \u001b[32m━━━━━━━━━━━━━━━━━━━━\u001b[0m\u001b[37m\u001b[0m \u001b[1m3s\u001b[0m 1ms/step - accuracy: 0.9892 - loss: 0.0295 - val_accuracy: 0.9929 - val_loss: 0.0198\n",
      "Epoch 21/100\n",
      "\u001b[1m2459/2459\u001b[0m \u001b[32m━━━━━━━━━━━━━━━━━━━━\u001b[0m\u001b[37m\u001b[0m \u001b[1m3s\u001b[0m 1ms/step - accuracy: 0.9904 - loss: 0.0285 - val_accuracy: 0.9936 - val_loss: 0.0186\n",
      "Epoch 22/100\n",
      "\u001b[1m2459/2459\u001b[0m \u001b[32m━━━━━━━━━━━━━━━━━━━━\u001b[0m\u001b[37m\u001b[0m \u001b[1m3s\u001b[0m 1ms/step - accuracy: 0.9904 - loss: 0.0264 - val_accuracy: 0.9938 - val_loss: 0.0174\n",
      "Epoch 23/100\n",
      "\u001b[1m2459/2459\u001b[0m \u001b[32m━━━━━━━━━━━━━━━━━━━━\u001b[0m\u001b[37m\u001b[0m \u001b[1m3s\u001b[0m 1ms/step - accuracy: 0.9910 - loss: 0.0263 - val_accuracy: 0.9938 - val_loss: 0.0172\n",
      "Epoch 24/100\n",
      "\u001b[1m2459/2459\u001b[0m \u001b[32m━━━━━━━━━━━━━━━━━━━━\u001b[0m\u001b[37m\u001b[0m \u001b[1m3s\u001b[0m 1ms/step - accuracy: 0.9911 - loss: 0.0250 - val_accuracy: 0.9936 - val_loss: 0.0174\n",
      "Epoch 25/100\n",
      "\u001b[1m2459/2459\u001b[0m \u001b[32m━━━━━━━━━━━━━━━━━━━━\u001b[0m\u001b[37m\u001b[0m \u001b[1m3s\u001b[0m 1ms/step - accuracy: 0.9915 - loss: 0.0250 - val_accuracy: 0.9945 - val_loss: 0.0153\n",
      "Epoch 26/100\n",
      "\u001b[1m2459/2459\u001b[0m \u001b[32m━━━━━━━━━━━━━━━━━━━━\u001b[0m\u001b[37m\u001b[0m \u001b[1m3s\u001b[0m 1ms/step - accuracy: 0.9916 - loss: 0.0241 - val_accuracy: 0.9950 - val_loss: 0.0148\n",
      "Epoch 27/100\n",
      "\u001b[1m2459/2459\u001b[0m \u001b[32m━━━━━━━━━━━━━━━━━━━━\u001b[0m\u001b[37m\u001b[0m \u001b[1m3s\u001b[0m 1ms/step - accuracy: 0.9919 - loss: 0.0231 - val_accuracy: 0.9952 - val_loss: 0.0139\n",
      "Epoch 28/100\n",
      "\u001b[1m2459/2459\u001b[0m \u001b[32m━━━━━━━━━━━━━━━━━━━━\u001b[0m\u001b[37m\u001b[0m \u001b[1m3s\u001b[0m 1ms/step - accuracy: 0.9925 - loss: 0.0217 - val_accuracy: 0.9954 - val_loss: 0.0134\n",
      "Epoch 29/100\n",
      "\u001b[1m2459/2459\u001b[0m \u001b[32m━━━━━━━━━━━━━━━━━━━━\u001b[0m\u001b[37m\u001b[0m \u001b[1m3s\u001b[0m 1ms/step - accuracy: 0.9922 - loss: 0.0221 - val_accuracy: 0.9953 - val_loss: 0.0135\n",
      "Epoch 30/100\n",
      "\u001b[1m2459/2459\u001b[0m \u001b[32m━━━━━━━━━━━━━━━━━━━━\u001b[0m\u001b[37m\u001b[0m \u001b[1m3s\u001b[0m 1ms/step - accuracy: 0.9926 - loss: 0.0212 - val_accuracy: 0.9960 - val_loss: 0.0125\n",
      "Epoch 31/100\n",
      "\u001b[1m2459/2459\u001b[0m \u001b[32m━━━━━━━━━━━━━━━━━━━━\u001b[0m\u001b[37m\u001b[0m \u001b[1m3s\u001b[0m 1ms/step - accuracy: 0.9931 - loss: 0.0214 - val_accuracy: 0.9949 - val_loss: 0.0134\n",
      "Epoch 32/100\n",
      "\u001b[1m2459/2459\u001b[0m \u001b[32m━━━━━━━━━━━━━━━━━━━━\u001b[0m\u001b[37m\u001b[0m \u001b[1m3s\u001b[0m 1ms/step - accuracy: 0.9938 - loss: 0.0192 - val_accuracy: 0.9958 - val_loss: 0.0122\n",
      "Epoch 33/100\n",
      "\u001b[1m2459/2459\u001b[0m \u001b[32m━━━━━━━━━━━━━━━━━━━━\u001b[0m\u001b[37m\u001b[0m \u001b[1m3s\u001b[0m 1ms/step - accuracy: 0.9930 - loss: 0.0192 - val_accuracy: 0.9952 - val_loss: 0.0128\n",
      "Epoch 34/100\n",
      "\u001b[1m2459/2459\u001b[0m \u001b[32m━━━━━━━━━━━━━━━━━━━━\u001b[0m\u001b[37m\u001b[0m \u001b[1m3s\u001b[0m 1ms/step - accuracy: 0.9932 - loss: 0.0203 - val_accuracy: 0.9957 - val_loss: 0.0119\n",
      "Epoch 35/100\n",
      "\u001b[1m2459/2459\u001b[0m \u001b[32m━━━━━━━━━━━━━━━━━━━━\u001b[0m\u001b[37m\u001b[0m \u001b[1m3s\u001b[0m 1ms/step - accuracy: 0.9933 - loss: 0.0197 - val_accuracy: 0.9960 - val_loss: 0.0113\n",
      "Epoch 36/100\n",
      "\u001b[1m2459/2459\u001b[0m \u001b[32m━━━━━━━━━━━━━━━━━━━━\u001b[0m\u001b[37m\u001b[0m \u001b[1m3s\u001b[0m 1ms/step - accuracy: 0.9934 - loss: 0.0179 - val_accuracy: 0.9956 - val_loss: 0.0121\n",
      "Epoch 37/100\n",
      "\u001b[1m2459/2459\u001b[0m \u001b[32m━━━━━━━━━━━━━━━━━━━━\u001b[0m\u001b[37m\u001b[0m \u001b[1m3s\u001b[0m 1ms/step - accuracy: 0.9932 - loss: 0.0191 - val_accuracy: 0.9962 - val_loss: 0.0108\n",
      "Epoch 38/100\n",
      "\u001b[1m2459/2459\u001b[0m \u001b[32m━━━━━━━━━━━━━━━━━━━━\u001b[0m\u001b[37m\u001b[0m \u001b[1m3s\u001b[0m 1ms/step - accuracy: 0.9940 - loss: 0.0166 - val_accuracy: 0.9960 - val_loss: 0.0108\n",
      "Epoch 39/100\n",
      "\u001b[1m2459/2459\u001b[0m \u001b[32m━━━━━━━━━━━━━━━━━━━━\u001b[0m\u001b[37m\u001b[0m \u001b[1m3s\u001b[0m 1ms/step - accuracy: 0.9941 - loss: 0.0168 - val_accuracy: 0.9963 - val_loss: 0.0108\n",
      "Epoch 40/100\n",
      "\u001b[1m2459/2459\u001b[0m \u001b[32m━━━━━━━━━━━━━━━━━━━━\u001b[0m\u001b[37m\u001b[0m \u001b[1m3s\u001b[0m 1ms/step - accuracy: 0.9940 - loss: 0.0176 - val_accuracy: 0.9964 - val_loss: 0.0100\n",
      "Epoch 41/100\n",
      "\u001b[1m2459/2459\u001b[0m \u001b[32m━━━━━━━━━━━━━━━━━━━━\u001b[0m\u001b[37m\u001b[0m \u001b[1m3s\u001b[0m 1ms/step - accuracy: 0.9940 - loss: 0.0176 - val_accuracy: 0.9965 - val_loss: 0.0099\n",
      "Epoch 42/100\n",
      "\u001b[1m2459/2459\u001b[0m \u001b[32m━━━━━━━━━━━━━━━━━━━━\u001b[0m\u001b[37m\u001b[0m \u001b[1m3s\u001b[0m 1ms/step - accuracy: 0.9942 - loss: 0.0160 - val_accuracy: 0.9965 - val_loss: 0.0097\n",
      "Epoch 43/100\n",
      "\u001b[1m2459/2459\u001b[0m \u001b[32m━━━━━━━━━━━━━━━━━━━━\u001b[0m\u001b[37m\u001b[0m \u001b[1m3s\u001b[0m 1ms/step - accuracy: 0.9948 - loss: 0.0159 - val_accuracy: 0.9966 - val_loss: 0.0098\n",
      "Epoch 44/100\n",
      "\u001b[1m2459/2459\u001b[0m \u001b[32m━━━━━━━━━━━━━━━━━━━━\u001b[0m\u001b[37m\u001b[0m \u001b[1m3s\u001b[0m 1ms/step - accuracy: 0.9947 - loss: 0.0148 - val_accuracy: 0.9966 - val_loss: 0.0094\n",
      "Epoch 45/100\n",
      "\u001b[1m2459/2459\u001b[0m \u001b[32m━━━━━━━━━━━━━━━━━━━━\u001b[0m\u001b[37m\u001b[0m \u001b[1m3s\u001b[0m 1ms/step - accuracy: 0.9949 - loss: 0.0153 - val_accuracy: 0.9967 - val_loss: 0.0088\n",
      "Epoch 46/100\n",
      "\u001b[1m2459/2459\u001b[0m \u001b[32m━━━━━━━━━━━━━━━━━━━━\u001b[0m\u001b[37m\u001b[0m \u001b[1m3s\u001b[0m 1ms/step - accuracy: 0.9945 - loss: 0.0156 - val_accuracy: 0.9967 - val_loss: 0.0092\n",
      "Epoch 47/100\n",
      "\u001b[1m2459/2459\u001b[0m \u001b[32m━━━━━━━━━━━━━━━━━━━━\u001b[0m\u001b[37m\u001b[0m \u001b[1m3s\u001b[0m 1ms/step - accuracy: 0.9954 - loss: 0.0140 - val_accuracy: 0.9969 - val_loss: 0.0087\n",
      "Epoch 48/100\n",
      "\u001b[1m2459/2459\u001b[0m \u001b[32m━━━━━━━━━━━━━━━━━━━━\u001b[0m\u001b[37m\u001b[0m \u001b[1m3s\u001b[0m 1ms/step - accuracy: 0.9955 - loss: 0.0138 - val_accuracy: 0.9963 - val_loss: 0.0100\n",
      "Epoch 49/100\n",
      "\u001b[1m2459/2459\u001b[0m \u001b[32m━━━━━━━━━━━━━━━━━━━━\u001b[0m\u001b[37m\u001b[0m \u001b[1m3s\u001b[0m 1ms/step - accuracy: 0.9951 - loss: 0.0134 - val_accuracy: 0.9968 - val_loss: 0.0086\n",
      "Epoch 50/100\n"
     ]
    },
    {
     "name": "stdout",
     "output_type": "stream",
     "text": [
      "\u001b[1m2459/2459\u001b[0m \u001b[32m━━━━━━━━━━━━━━━━━━━━\u001b[0m\u001b[37m\u001b[0m \u001b[1m3s\u001b[0m 1ms/step - accuracy: 0.9956 - loss: 0.0134 - val_accuracy: 0.9969 - val_loss: 0.0084\n",
      "Epoch 51/100\n",
      "\u001b[1m2459/2459\u001b[0m \u001b[32m━━━━━━━━━━━━━━━━━━━━\u001b[0m\u001b[37m\u001b[0m \u001b[1m2s\u001b[0m 1ms/step - accuracy: 0.9954 - loss: 0.0143 - val_accuracy: 0.9968 - val_loss: 0.0087\n",
      "Epoch 52/100\n",
      "\u001b[1m2459/2459\u001b[0m \u001b[32m━━━━━━━━━━━━━━━━━━━━\u001b[0m\u001b[37m\u001b[0m \u001b[1m3s\u001b[0m 1ms/step - accuracy: 0.9954 - loss: 0.0135 - val_accuracy: 0.9971 - val_loss: 0.0080\n",
      "Epoch 53/100\n",
      "\u001b[1m2459/2459\u001b[0m \u001b[32m━━━━━━━━━━━━━━━━━━━━\u001b[0m\u001b[37m\u001b[0m \u001b[1m3s\u001b[0m 1ms/step - accuracy: 0.9956 - loss: 0.0129 - val_accuracy: 0.9976 - val_loss: 0.0073\n",
      "Epoch 54/100\n",
      "\u001b[1m2459/2459\u001b[0m \u001b[32m━━━━━━━━━━━━━━━━━━━━\u001b[0m\u001b[37m\u001b[0m \u001b[1m3s\u001b[0m 1ms/step - accuracy: 0.9963 - loss: 0.0119 - val_accuracy: 0.9973 - val_loss: 0.0077\n",
      "Epoch 55/100\n",
      "\u001b[1m2459/2459\u001b[0m \u001b[32m━━━━━━━━━━━━━━━━━━━━\u001b[0m\u001b[37m\u001b[0m \u001b[1m3s\u001b[0m 1ms/step - accuracy: 0.9951 - loss: 0.0131 - val_accuracy: 0.9976 - val_loss: 0.0072\n",
      "Epoch 56/100\n",
      "\u001b[1m2459/2459\u001b[0m \u001b[32m━━━━━━━━━━━━━━━━━━━━\u001b[0m\u001b[37m\u001b[0m \u001b[1m3s\u001b[0m 1ms/step - accuracy: 0.9962 - loss: 0.0113 - val_accuracy: 0.9978 - val_loss: 0.0070\n",
      "Epoch 57/100\n",
      "\u001b[1m2459/2459\u001b[0m \u001b[32m━━━━━━━━━━━━━━━━━━━━\u001b[0m\u001b[37m\u001b[0m \u001b[1m3s\u001b[0m 1ms/step - accuracy: 0.9955 - loss: 0.0126 - val_accuracy: 0.9976 - val_loss: 0.0069\n",
      "Epoch 58/100\n",
      "\u001b[1m2459/2459\u001b[0m \u001b[32m━━━━━━━━━━━━━━━━━━━━\u001b[0m\u001b[37m\u001b[0m \u001b[1m3s\u001b[0m 1ms/step - accuracy: 0.9959 - loss: 0.0127 - val_accuracy: 0.9973 - val_loss: 0.0071\n",
      "Epoch 59/100\n",
      "\u001b[1m2459/2459\u001b[0m \u001b[32m━━━━━━━━━━━━━━━━━━━━\u001b[0m\u001b[37m\u001b[0m \u001b[1m3s\u001b[0m 1ms/step - accuracy: 0.9961 - loss: 0.0124 - val_accuracy: 0.9972 - val_loss: 0.0074\n",
      "Epoch 60/100\n",
      "\u001b[1m2459/2459\u001b[0m \u001b[32m━━━━━━━━━━━━━━━━━━━━\u001b[0m\u001b[37m\u001b[0m \u001b[1m3s\u001b[0m 1ms/step - accuracy: 0.9964 - loss: 0.0115 - val_accuracy: 0.9977 - val_loss: 0.0065\n",
      "Epoch 61/100\n",
      "\u001b[1m2459/2459\u001b[0m \u001b[32m━━━━━━━━━━━━━━━━━━━━\u001b[0m\u001b[37m\u001b[0m \u001b[1m3s\u001b[0m 1ms/step - accuracy: 0.9960 - loss: 0.0121 - val_accuracy: 0.9976 - val_loss: 0.0064\n",
      "Epoch 62/100\n",
      "\u001b[1m2459/2459\u001b[0m \u001b[32m━━━━━━━━━━━━━━━━━━━━\u001b[0m\u001b[37m\u001b[0m \u001b[1m3s\u001b[0m 1ms/step - accuracy: 0.9960 - loss: 0.0115 - val_accuracy: 0.9974 - val_loss: 0.0068\n",
      "Epoch 63/100\n",
      "\u001b[1m2459/2459\u001b[0m \u001b[32m━━━━━━━━━━━━━━━━━━━━\u001b[0m\u001b[37m\u001b[0m \u001b[1m3s\u001b[0m 1ms/step - accuracy: 0.9962 - loss: 0.0114 - val_accuracy: 0.9976 - val_loss: 0.0068\n",
      "Epoch 64/100\n",
      "\u001b[1m2459/2459\u001b[0m \u001b[32m━━━━━━━━━━━━━━━━━━━━\u001b[0m\u001b[37m\u001b[0m \u001b[1m3s\u001b[0m 1ms/step - accuracy: 0.9967 - loss: 0.0106 - val_accuracy: 0.9971 - val_loss: 0.0076\n",
      "Epoch 65/100\n",
      "\u001b[1m2459/2459\u001b[0m \u001b[32m━━━━━━━━━━━━━━━━━━━━\u001b[0m\u001b[37m\u001b[0m \u001b[1m3s\u001b[0m 1ms/step - accuracy: 0.9961 - loss: 0.0114 - val_accuracy: 0.9974 - val_loss: 0.0075\n",
      "Epoch 66/100\n",
      "\u001b[1m2459/2459\u001b[0m \u001b[32m━━━━━━━━━━━━━━━━━━━━\u001b[0m\u001b[37m\u001b[0m \u001b[1m3s\u001b[0m 1ms/step - accuracy: 0.9963 - loss: 0.0112 - val_accuracy: 0.9977 - val_loss: 0.0057\n",
      "Epoch 67/100\n",
      "\u001b[1m2459/2459\u001b[0m \u001b[32m━━━━━━━━━━━━━━━━━━━━\u001b[0m\u001b[37m\u001b[0m \u001b[1m3s\u001b[0m 1ms/step - accuracy: 0.9965 - loss: 0.0102 - val_accuracy: 0.9981 - val_loss: 0.0055\n",
      "Epoch 68/100\n",
      "\u001b[1m2459/2459\u001b[0m \u001b[32m━━━━━━━━━━━━━━━━━━━━\u001b[0m\u001b[37m\u001b[0m \u001b[1m3s\u001b[0m 1ms/step - accuracy: 0.9969 - loss: 0.0097 - val_accuracy: 0.9978 - val_loss: 0.0056\n",
      "Epoch 69/100\n",
      "\u001b[1m2459/2459\u001b[0m \u001b[32m━━━━━━━━━━━━━━━━━━━━\u001b[0m\u001b[37m\u001b[0m \u001b[1m3s\u001b[0m 1ms/step - accuracy: 0.9971 - loss: 0.0098 - val_accuracy: 0.9978 - val_loss: 0.0058\n",
      "Epoch 70/100\n",
      "\u001b[1m2459/2459\u001b[0m \u001b[32m━━━━━━━━━━━━━━━━━━━━\u001b[0m\u001b[37m\u001b[0m \u001b[1m3s\u001b[0m 1ms/step - accuracy: 0.9970 - loss: 0.0110 - val_accuracy: 0.9984 - val_loss: 0.0053\n",
      "Epoch 71/100\n",
      "\u001b[1m2459/2459\u001b[0m \u001b[32m━━━━━━━━━━━━━━━━━━━━\u001b[0m\u001b[37m\u001b[0m \u001b[1m3s\u001b[0m 1ms/step - accuracy: 0.9965 - loss: 0.0106 - val_accuracy: 0.9977 - val_loss: 0.0059\n",
      "Epoch 72/100\n",
      "\u001b[1m2459/2459\u001b[0m \u001b[32m━━━━━━━━━━━━━━━━━━━━\u001b[0m\u001b[37m\u001b[0m \u001b[1m3s\u001b[0m 1ms/step - accuracy: 0.9967 - loss: 0.0098 - val_accuracy: 0.9983 - val_loss: 0.0050\n",
      "Epoch 73/100\n",
      "\u001b[1m2459/2459\u001b[0m \u001b[32m━━━━━━━━━━━━━━━━━━━━\u001b[0m\u001b[37m\u001b[0m \u001b[1m3s\u001b[0m 1ms/step - accuracy: 0.9963 - loss: 0.0109 - val_accuracy: 0.9979 - val_loss: 0.0058\n",
      "Epoch 74/100\n",
      "\u001b[1m2459/2459\u001b[0m \u001b[32m━━━━━━━━━━━━━━━━━━━━\u001b[0m\u001b[37m\u001b[0m \u001b[1m3s\u001b[0m 1ms/step - accuracy: 0.9964 - loss: 0.0099 - val_accuracy: 0.9979 - val_loss: 0.0052\n",
      "Epoch 75/100\n",
      "\u001b[1m2459/2459\u001b[0m \u001b[32m━━━━━━━━━━━━━━━━━━━━\u001b[0m\u001b[37m\u001b[0m \u001b[1m3s\u001b[0m 1ms/step - accuracy: 0.9969 - loss: 0.0093 - val_accuracy: 0.9979 - val_loss: 0.0053\n",
      "Epoch 76/100\n",
      "\u001b[1m2459/2459\u001b[0m \u001b[32m━━━━━━━━━━━━━━━━━━━━\u001b[0m\u001b[37m\u001b[0m \u001b[1m3s\u001b[0m 1ms/step - accuracy: 0.9963 - loss: 0.0110 - val_accuracy: 0.9980 - val_loss: 0.0053\n",
      "Epoch 77/100\n",
      "\u001b[1m2459/2459\u001b[0m \u001b[32m━━━━━━━━━━━━━━━━━━━━\u001b[0m\u001b[37m\u001b[0m \u001b[1m3s\u001b[0m 1ms/step - accuracy: 0.9971 - loss: 0.0098 - val_accuracy: 0.9982 - val_loss: 0.0050\n",
      "Epoch 78/100\n",
      "\u001b[1m2459/2459\u001b[0m \u001b[32m━━━━━━━━━━━━━━━━━━━━\u001b[0m\u001b[37m\u001b[0m \u001b[1m3s\u001b[0m 1ms/step - accuracy: 0.9971 - loss: 0.0087 - val_accuracy: 0.9979 - val_loss: 0.0054\n",
      "Epoch 79/100\n",
      "\u001b[1m2459/2459\u001b[0m \u001b[32m━━━━━━━━━━━━━━━━━━━━\u001b[0m\u001b[37m\u001b[0m \u001b[1m3s\u001b[0m 1ms/step - accuracy: 0.9968 - loss: 0.0089 - val_accuracy: 0.9979 - val_loss: 0.0052\n",
      "Epoch 80/100\n",
      "\u001b[1m2459/2459\u001b[0m \u001b[32m━━━━━━━━━━━━━━━━━━━━\u001b[0m\u001b[37m\u001b[0m \u001b[1m3s\u001b[0m 1ms/step - accuracy: 0.9967 - loss: 0.0090 - val_accuracy: 0.9979 - val_loss: 0.0054\n",
      "Epoch 81/100\n",
      "\u001b[1m2459/2459\u001b[0m \u001b[32m━━━━━━━━━━━━━━━━━━━━\u001b[0m\u001b[37m\u001b[0m \u001b[1m3s\u001b[0m 1ms/step - accuracy: 0.9965 - loss: 0.0107 - val_accuracy: 0.9982 - val_loss: 0.0047\n",
      "Epoch 82/100\n",
      "\u001b[1m2459/2459\u001b[0m \u001b[32m━━━━━━━━━━━━━━━━━━━━\u001b[0m\u001b[37m\u001b[0m \u001b[1m3s\u001b[0m 1ms/step - accuracy: 0.9972 - loss: 0.0083 - val_accuracy: 0.9978 - val_loss: 0.0050\n",
      "Epoch 83/100\n",
      "\u001b[1m2459/2459\u001b[0m \u001b[32m━━━━━━━━━━━━━━━━━━━━\u001b[0m\u001b[37m\u001b[0m \u001b[1m3s\u001b[0m 1ms/step - accuracy: 0.9973 - loss: 0.0084 - val_accuracy: 0.9984 - val_loss: 0.0047\n",
      "Epoch 84/100\n",
      "\u001b[1m2459/2459\u001b[0m \u001b[32m━━━━━━━━━━━━━━━━━━━━\u001b[0m\u001b[37m\u001b[0m \u001b[1m3s\u001b[0m 1ms/step - accuracy: 0.9965 - loss: 0.0105 - val_accuracy: 0.9983 - val_loss: 0.0047\n",
      "Epoch 85/100\n",
      "\u001b[1m2459/2459\u001b[0m \u001b[32m━━━━━━━━━━━━━━━━━━━━\u001b[0m\u001b[37m\u001b[0m \u001b[1m3s\u001b[0m 1ms/step - accuracy: 0.9970 - loss: 0.0086 - val_accuracy: 0.9981 - val_loss: 0.0047\n",
      "Epoch 86/100\n",
      "\u001b[1m2459/2459\u001b[0m \u001b[32m━━━━━━━━━━━━━━━━━━━━\u001b[0m\u001b[37m\u001b[0m \u001b[1m3s\u001b[0m 1ms/step - accuracy: 0.9973 - loss: 0.0085 - val_accuracy: 0.9985 - val_loss: 0.0044\n",
      "Epoch 87/100\n",
      "\u001b[1m2459/2459\u001b[0m \u001b[32m━━━━━━━━━━━━━━━━━━━━\u001b[0m\u001b[37m\u001b[0m \u001b[1m3s\u001b[0m 1ms/step - accuracy: 0.9971 - loss: 0.0084 - val_accuracy: 0.9980 - val_loss: 0.0051\n",
      "Epoch 88/100\n",
      "\u001b[1m2459/2459\u001b[0m \u001b[32m━━━━━━━━━━━━━━━━━━━━\u001b[0m\u001b[37m\u001b[0m \u001b[1m3s\u001b[0m 1ms/step - accuracy: 0.9970 - loss: 0.0086 - val_accuracy: 0.9982 - val_loss: 0.0043\n",
      "Epoch 89/100\n",
      "\u001b[1m2459/2459\u001b[0m \u001b[32m━━━━━━━━━━━━━━━━━━━━\u001b[0m\u001b[37m\u001b[0m \u001b[1m3s\u001b[0m 1ms/step - accuracy: 0.9974 - loss: 0.0077 - val_accuracy: 0.9987 - val_loss: 0.0039\n",
      "Epoch 90/100\n",
      "\u001b[1m2459/2459\u001b[0m \u001b[32m━━━━━━━━━━━━━━━━━━━━\u001b[0m\u001b[37m\u001b[0m \u001b[1m3s\u001b[0m 1ms/step - accuracy: 0.9976 - loss: 0.0079 - val_accuracy: 0.9984 - val_loss: 0.0042\n",
      "Epoch 91/100\n",
      "\u001b[1m2459/2459\u001b[0m \u001b[32m━━━━━━━━━━━━━━━━━━━━\u001b[0m\u001b[37m\u001b[0m \u001b[1m3s\u001b[0m 1ms/step - accuracy: 0.9978 - loss: 0.0069 - val_accuracy: 0.9986 - val_loss: 0.0041\n",
      "Epoch 92/100\n",
      "\u001b[1m2459/2459\u001b[0m \u001b[32m━━━━━━━━━━━━━━━━━━━━\u001b[0m\u001b[37m\u001b[0m \u001b[1m3s\u001b[0m 1ms/step - accuracy: 0.9973 - loss: 0.0075 - val_accuracy: 0.9984 - val_loss: 0.0041\n",
      "Epoch 93/100\n",
      "\u001b[1m2459/2459\u001b[0m \u001b[32m━━━━━━━━━━━━━━━━━━━━\u001b[0m\u001b[37m\u001b[0m \u001b[1m3s\u001b[0m 1ms/step - accuracy: 0.9975 - loss: 0.0073 - val_accuracy: 0.9986 - val_loss: 0.0039\n",
      "Epoch 94/100\n",
      "\u001b[1m2459/2459\u001b[0m \u001b[32m━━━━━━━━━━━━━━━━━━━━\u001b[0m\u001b[37m\u001b[0m \u001b[1m3s\u001b[0m 1ms/step - accuracy: 0.9976 - loss: 0.0080 - val_accuracy: 0.9984 - val_loss: 0.0042\n",
      "Epoch 95/100\n",
      "\u001b[1m2459/2459\u001b[0m \u001b[32m━━━━━━━━━━━━━━━━━━━━\u001b[0m\u001b[37m\u001b[0m \u001b[1m3s\u001b[0m 1ms/step - accuracy: 0.9978 - loss: 0.0064 - val_accuracy: 0.9992 - val_loss: 0.0038\n",
      "Epoch 96/100\n",
      "\u001b[1m2459/2459\u001b[0m \u001b[32m━━━━━━━━━━━━━━━━━━━━\u001b[0m\u001b[37m\u001b[0m \u001b[1m3s\u001b[0m 1ms/step - accuracy: 0.9972 - loss: 0.0082 - val_accuracy: 0.9987 - val_loss: 0.0038\n",
      "Epoch 97/100\n",
      "\u001b[1m2459/2459\u001b[0m \u001b[32m━━━━━━━━━━━━━━━━━━━━\u001b[0m\u001b[37m\u001b[0m \u001b[1m3s\u001b[0m 1ms/step - accuracy: 0.9977 - loss: 0.0066 - val_accuracy: 0.9984 - val_loss: 0.0042\n",
      "Epoch 98/100\n",
      "\u001b[1m2459/2459\u001b[0m \u001b[32m━━━━━━━━━━━━━━━━━━━━\u001b[0m\u001b[37m\u001b[0m \u001b[1m3s\u001b[0m 1ms/step - accuracy: 0.9978 - loss: 0.0071 - val_accuracy: 0.9989 - val_loss: 0.0036\n",
      "Epoch 99/100\n"
     ]
    },
    {
     "name": "stdout",
     "output_type": "stream",
     "text": [
      "\u001b[1m2459/2459\u001b[0m \u001b[32m━━━━━━━━━━━━━━━━━━━━\u001b[0m\u001b[37m\u001b[0m \u001b[1m3s\u001b[0m 1ms/step - accuracy: 0.9977 - loss: 0.0068 - val_accuracy: 0.9986 - val_loss: 0.0037\n",
      "Epoch 100/100\n",
      "\u001b[1m2459/2459\u001b[0m \u001b[32m━━━━━━━━━━━━━━━━━━━━\u001b[0m\u001b[37m\u001b[0m \u001b[1m3s\u001b[0m 1ms/step - accuracy: 0.9977 - loss: 0.0069 - val_accuracy: 0.9984 - val_loss: 0.0042\n"
     ]
    }
   ],
   "source": [
    "from keras.callbacks import EarlyStopping\n",
    "from keras.optimizers import Adam\n",
    "\n",
    "model.compile(optimizer=Adam(learning_rate=0.0001), \n",
    "              loss='binary_crossentropy', \n",
    "              metrics=['accuracy'])\n",
    "\n",
    "# configure early stopping\n",
    "#es = EarlyStopping(monitor='val_loss', mode='min', verbose=1, patience=5)\n",
    "\n",
    "# calculate class weights\n",
    "neg, pos = np.bincount(y_train)\n",
    "total = neg + pos\n",
    "class_weight = {0: 1, 1: 5}\n",
    "\n",
    "# train the model\n",
    "#history = model.fit(X_train, y_train, validation_data=(X_val, y_val), epochs=100, callbacks=[es])\n",
    "history = model.fit(X_train, y_train, validation_data=(X_val, y_val), epochs=100)"
   ]
  },
  {
   "cell_type": "code",
   "execution_count": 8,
   "id": "adfae88d",
   "metadata": {},
   "outputs": [
    {
     "data": {
      "text/plain": [
       "[]"
      ]
     },
     "execution_count": 8,
     "metadata": {},
     "output_type": "execute_result"
    },
    {
     "data": {
      "image/png": "[encoded data removed]",
      "text/plain": [
       "<Figure size 432x288 with 1 Axes>"
      ]
     },
     "metadata": {},
     "output_type": "display_data"
    }
   ],
   "source": [
    "import matplotlib.pyplot as plt\n",
    "%matplotlib inline\n",
    "import seaborn as sns\n",
    "sns.set()\n",
    "\n",
    "\n",
    "acc = history.history[\"accuracy\"]\n",
    "val = history.history[\"val_accuracy\"]\n",
    "epochs = range(1, len(acc) + 1)\n",
    "\n",
    "plt.plot(epochs, acc, '-', label='Training accuracy')\n",
    "plt.plot(epochs, val, ':', label='Validation accuracy')\n",
    "plt.title('Training and Validation Accuracy')\n",
    "plt.xlabel('Epoch')\n",
    "plt.ylabel('Accuracy')\n",
    "plt.legend(loc='lower right')\n",
    "plt.plot()"
   ]
  },
  {
   "cell_type": "code",
   "execution_count": 9,
   "id": "835d65a5",
   "metadata": {},
   "outputs": [
    {
     "name": "stdout",
     "output_type": "stream",
     "text": [
      "\u001b[1m2186/2186\u001b[0m \u001b[32m━━━━━━━━━━━━━━━━━━━━\u001b[0m\u001b[37m\u001b[0m \u001b[1m1s\u001b[0m 535us/step\n"
     ]
    },
    {
     "data": {
      "text/plain": [
       "Text(89.18, 0.5, 'Actual label')"
      ]
     },
     "execution_count": 9,
     "metadata": {},
     "output_type": "execute_result"
    },
    {
     "data": {
      "image/png": "[encoded data removed]",
      "text/plain": [
       "<Figure size 432x288 with 1 Axes>"
      ]
     },
     "metadata": {},
     "output_type": "display_data"
    }
   ],
   "source": [
    "from sklearn.metrics import confusion_matrix\n",
    " \n",
    "y_predicted = model.predict(X_test) > 0.5\n",
    "mat = confusion_matrix(y_test, y_predicted)\n",
    "labels = ['Legitimate', 'Fraudulent']\n",
    " \n",
    "sns.heatmap(mat, square=True, annot=True, fmt='d', cbar=False, cmap='Blues',\n",
    "            xticklabels=labels, yticklabels=labels)\n",
    " \n",
    "plt.xlabel('Predicted label')\n",
    "plt.ylabel('Actual label')"
   ]
  },
  {
   "cell_type": "code",
   "execution_count": 10,
   "id": "20b188bc",
   "metadata": {},
   "outputs": [
    {
     "data": {
      "text/plain": [
       "34849"
      ]
     },
     "execution_count": 10,
     "metadata": {},
     "output_type": "execute_result"
    }
   ],
   "source": [
    "true_legitimate = 0\n",
    "true_fraudulent = 0\n",
    "false_legitimate = 0\n",
    "false_fraudulent = 0\n",
    "\n",
    "for i in range(0, len(y_predicted)):\n",
    "    if y_predicted[i] and y_test.iloc[i]:\n",
    "        true_fraudulent+=1\n",
    "    elif y_predicted[i] and (not y_test.iloc[i]):\n",
    "        false_fraudulent+=1\n",
    "    elif (not y_predicted[i]) and y_test.iloc[i]:\n",
    "        false_legitimate+=1\n",
    "    elif (not y_predicted[i]) and (not y_test.iloc[i]):\n",
    "        true_legitimate+=1\n",
    "        \n",
    "\n",
    "true_legitimate"
   ]
  },
  {
   "cell_type": "code",
   "execution_count": 11,
   "id": "0473bccf",
   "metadata": {},
   "outputs": [
    {
     "name": "stdout",
     "output_type": "stream",
     "text": [
      "true legitimate: 34849\n",
      "true fraudulent: 34943\n",
      "false legitimate: 18\n",
      "false fraudulent: 112\n"
     ]
    }
   ],
   "source": [
    "print('true legitimate: ' + str(true_legitimate))\n",
    "print('true fraudulent: ' + str(true_fraudulent))\n",
    "print('false legitimate: ' + str(false_legitimate))\n",
    "print('false fraudulent: ' + str(false_fraudulent))"
   ]
  },
  {
   "cell_type": "code",
   "execution_count": 12,
   "id": "1a22a630-41ff-4ab0-bb2b-06cc69a2af0e",
   "metadata": {},
   "outputs": [
    {
     "name": "stdout",
     "output_type": "stream",
     "text": [
      "0.9981407854466405\n"
     ]
    }
   ],
   "source": [
    "test_acc = (true_legitimate + true_fraudulent)/len(y_test)\n",
    "print(test_acc)"
   ]
  },
  {
   "cell_type": "code",
   "execution_count": null,
   "id": "ca82aa35",
   "metadata": {},
   "outputs": [],
   "source": []
  }
 ],
 "metadata": {
  "kernelspec": {
   "display_name": "Python 3 (ipykernel)",
   "language": "python",
   "name": "python3"
  },
  "language_info": {
   "codemirror_mode": {
    "name": "ipython",
    "version": 3
   },
   "file_extension": ".py",
   "mimetype": "text/x-python",
   "name": "python",
   "nbconvert_exporter": "python",
   "pygments_lexer": "ipython3",
   "version": "3.10.12"
  }
 },
 "nbformat": 4,
 "nbformat_minor": 5
}
