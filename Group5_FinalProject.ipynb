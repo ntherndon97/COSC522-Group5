{
 "cells": [
  {
   "cell_type": "code",
   "execution_count": null,
   "metadata": {},
   "outputs": [],
   "source": [
    "# COSC 522 UTK\n",
    "# Group 5 - Final Project\n",
    "# Corey Lovette, Noah Archer, Stephen Williams and Tyler Herndon"
   ]
  },
  {
   "cell_type": "code",
   "execution_count": null,
   "metadata": {},
   "outputs": [],
   "source": [
    "import pandas as pd\n",
    "import numpy as np\n",
    "import matplotlib.pyplot as plt"
   ]
  },
  {
   "cell_type": "code",
   "execution_count": null,
   "metadata": {},
   "outputs": [],
   "source": [
    "# Read the data from the CSV file\n",
    "dataset = pd.read_csv('Fraud.csv')\n",
    "\n",
    "# Display basic information about the dataset\n",
    "print(\"Dataset Size: \", dataset.size);\n",
    "print(\"Dataset Shape: \", dataset.shape);\n",
    "print(\"Dataset Columns: \", dataset.columns);\n",
    "print(\"Dataset Data Types: \", dataset.dtypes);\n",
    "print(\"Missing Values by Column: \", dataset.isnull().sum());\n",
    "print(\"Total Frauds and Non-Frauds: \", dataset['isFraud'].value_counts());\n",
    "\n",
    "# Display a few of the records\n",
    "dataset.tail();"
   ]
  },
  {
   "cell_type": "code",
   "execution_count": null,
   "metadata": {},
   "outputs": [],
   "source": []
  }
 ],
 "metadata": {
  "language_info": {
   "name": "python"
  }
 },
 "nbformat": 4,
 "nbformat_minor": 2
}
