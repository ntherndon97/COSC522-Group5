{
 "cells": [
  {
   "cell_type": "code",
   "execution_count": 127,
   "id": "ba9268db",
   "metadata": {},
   "outputs": [],
   "source": [
    "import pandas as pd\n",
    "import numpy as np\n",
    "import matplotlib.pyplot as plt"
   ]
  },
  {
   "cell_type": "code",
   "execution_count": 128,
   "id": "7bf611e5",
   "metadata": {},
   "outputs": [
    {
     "name": "stdout",
     "output_type": "stream",
     "text": [
      "Fraud Count 87403\n",
      "Length 349611\n"
     ]
    },
    {
     "data": {
      "text/html": [
       "<div>\n",
       "<style scoped>\n",
       "    .dataframe tbody tr th:only-of-type {\n",
       "        vertical-align: middle;\n",
       "    }\n",
       "\n",
       "    .dataframe tbody tr th {\n",
       "        vertical-align: top;\n",
       "    }\n",
       "\n",
       "    .dataframe thead th {\n",
       "        text-align: right;\n",
       "    }\n",
       "</style>\n",
       "<table border=\"1\" class=\"dataframe\">\n",
       "  <thead>\n",
       "    <tr style=\"text-align: right;\">\n",
       "      <th></th>\n",
       "      <th>distance_from_home</th>\n",
       "      <th>distance_from_last_transaction</th>\n",
       "      <th>ratio_to_median_purchase_price</th>\n",
       "      <th>repeat_retailer</th>\n",
       "      <th>used_chip</th>\n",
       "      <th>used_pin_number</th>\n",
       "      <th>online_order</th>\n",
       "      <th>fraud</th>\n",
       "    </tr>\n",
       "  </thead>\n",
       "  <tbody>\n",
       "    <tr>\n",
       "      <th>349606</th>\n",
       "      <td>5.174346</td>\n",
       "      <td>0.091449</td>\n",
       "      <td>0.271987</td>\n",
       "      <td>1</td>\n",
       "      <td>1</td>\n",
       "      <td>0</td>\n",
       "      <td>1</td>\n",
       "      <td>0</td>\n",
       "    </tr>\n",
       "    <tr>\n",
       "      <th>349607</th>\n",
       "      <td>7.367244</td>\n",
       "      <td>0.160306</td>\n",
       "      <td>0.086809</td>\n",
       "      <td>1</td>\n",
       "      <td>1</td>\n",
       "      <td>0</td>\n",
       "      <td>1</td>\n",
       "      <td>0</td>\n",
       "    </tr>\n",
       "    <tr>\n",
       "      <th>349608</th>\n",
       "      <td>59.863047</td>\n",
       "      <td>0.312631</td>\n",
       "      <td>1.000054</td>\n",
       "      <td>1</td>\n",
       "      <td>0</td>\n",
       "      <td>0</td>\n",
       "      <td>1</td>\n",
       "      <td>0</td>\n",
       "    </tr>\n",
       "    <tr>\n",
       "      <th>349609</th>\n",
       "      <td>6.170266</td>\n",
       "      <td>0.073397</td>\n",
       "      <td>0.449757</td>\n",
       "      <td>1</td>\n",
       "      <td>0</td>\n",
       "      <td>0</td>\n",
       "      <td>1</td>\n",
       "      <td>0</td>\n",
       "    </tr>\n",
       "    <tr>\n",
       "      <th>349610</th>\n",
       "      <td>8.240822</td>\n",
       "      <td>3.783735</td>\n",
       "      <td>0.453087</td>\n",
       "      <td>1</td>\n",
       "      <td>0</td>\n",
       "      <td>0</td>\n",
       "      <td>1</td>\n",
       "      <td>0</td>\n",
       "    </tr>\n",
       "  </tbody>\n",
       "</table>\n",
       "</div>"
      ],
      "text/plain": [
       "        distance_from_home  distance_from_last_transaction  \\\n",
       "349606            5.174346                        0.091449   \n",
       "349607            7.367244                        0.160306   \n",
       "349608           59.863047                        0.312631   \n",
       "349609            6.170266                        0.073397   \n",
       "349610            8.240822                        3.783735   \n",
       "\n",
       "        ratio_to_median_purchase_price  repeat_retailer  used_chip  \\\n",
       "349606                        0.271987                1          1   \n",
       "349607                        0.086809                1          1   \n",
       "349608                        1.000054                1          0   \n",
       "349609                        0.449757                1          0   \n",
       "349610                        0.453087                1          0   \n",
       "\n",
       "        used_pin_number  online_order  fraud  \n",
       "349606                0             1      0  \n",
       "349607                0             1      0  \n",
       "349608                0             1      0  \n",
       "349609                0             1      0  \n",
       "349610                0             1      0  "
      ]
     },
     "execution_count": 128,
     "metadata": {},
     "output_type": "execute_result"
    }
   ],
   "source": [
    "# Read the data from the CSV file\n",
    "df = pd.read_csv('modified7525_card_transdata.csv')\n",
    "#df = pd.read_csv('card_transdata.csv')\n",
    "\n",
    "fraud_count = df[df['fraud'] != 0].shape[0]\n",
    "print(f\"Fraud Count {fraud_count}\")\n",
    "\n",
    "length_before = df.shape[0]\n",
    "print(f\"Length {length_before}\")\n",
    "\n",
    "df.tail()"
   ]
  },
  {
   "cell_type": "code",
   "execution_count": 129,
   "id": "9d4328e5",
   "metadata": {},
   "outputs": [
    {
     "name": "stdout",
     "output_type": "stream",
     "text": [
      "Duplicated values dropped succesfully\n",
      "The length before 349611 length after 349611\n"
     ]
    }
   ],
   "source": [
    "## drop duplicates\n",
    "\n",
    "df.drop_duplicates(inplace=True)\n",
    "print(\"Duplicated values dropped succesfully\")\n",
    "\n",
    "length_after = df.shape[0]\n",
    "\n",
    "print(f\"The length before {length_before} length after {length_after}\")"
   ]
  },
  {
   "cell_type": "code",
   "execution_count": 130,
   "id": "20f21d1f",
   "metadata": {},
   "outputs": [],
   "source": [
    "from sklearn.model_selection import train_test_split\n",
    "from sklearn.preprocessing import StandardScaler\n",
    "\n",
    "X = df.drop([\"fraud\"], axis=1)\n",
    "y = df[\"fraud\"]\n",
    "\n",
    "X_temp, X_test, y_temp, y_test = train_test_split(X, y, test_size=0.4, random_state=42, stratify=y)\n",
    "\n",
    "X_train, X_val, y_train, y_val = train_test_split(X_temp, y_temp, test_size=0.25, random_state=42, stratify=y_temp)\n",
    "\n",
    "# normalize data\n",
    "scaler = StandardScaler()\n",
    "X_train = scaler.fit_transform(X_train)\n",
    "X_val = scaler.transform(X_val)\n",
    "X_test = scaler.transform(X_test)"
   ]
  },
  {
   "cell_type": "code",
   "execution_count": 131,
   "id": "98a54117-0c93-483b-b276-6877ed256983",
   "metadata": {},
   "outputs": [
    {
     "data": {
      "text/plain": [
       "349611"
      ]
     },
     "execution_count": 131,
     "metadata": {},
     "output_type": "execute_result"
    }
   ],
   "source": [
    "len(X_val) + len(X_train) + len(X_test)"
   ]
  },
  {
   "cell_type": "code",
   "execution_count": 132,
   "id": "d27c11c3",
   "metadata": {},
   "outputs": [
    {
     "name": "stdout",
     "output_type": "stream",
     "text": [
      "x_train: 157324\n",
      "x_test: 139845\n",
      "x_val: 52442\n"
     ]
    }
   ],
   "source": [
    "print(f\"x_train: {len(X_train)}\")\n",
    "print(f\"x_test: {len(X_test)}\")\n",
    "print(f\"x_val: {len(X_val)}\")\n"
   ]
  },
  {
   "cell_type": "code",
   "execution_count": 133,
   "id": "48b2497d",
   "metadata": {},
   "outputs": [
    {
     "data": {
      "text/plain": [
       "'\\nmodel = tf.keras.Sequential(\\n    [\\n        # Adjusted number of neurons\\n        tf.keras.layers.Dense(128, activation=\"relu\", input_shape=(X.shape[-1],),\\n                              kernel_regularizer=regularizers.l2(0.001)),  # L2 regularization\\n        tf.keras.layers.Dropout(0.2),  # Adjusted dropout rate\\n        tf.keras.layers.Dense(64, activation=\"relu\",\\n                              kernel_regularizer=regularizers.l2(0.001)),  # L2 regularization\\n        tf.keras.layers.Dropout(0.2),  # Adjusted dropout rate\\n        tf.keras.layers.Dense(1, activation=\"sigmoid\"),\\n    ]\\n)\\nmodel.summary()\\n'"
      ]
     },
     "execution_count": 133,
     "metadata": {},
     "output_type": "execute_result"
    }
   ],
   "source": [
    "from keras.models import Sequential\n",
    "from keras.layers import Dense, Dropout\n",
    "'''\n",
    "model = Sequential()\n",
    "#model.add(Dense(128, activation='relu', input_dim=7))\n",
    "model.add(Dense(128, activation='relu'))\n",
    "#model.add(Dropout(0.2))\n",
    "model.add(Dense(128, activation=\"relu\")) #was 64\n",
    "#model.add(Dense(128, activation=\"relu\")) # DNE\n",
    "#model.add(Dropout(0.2))\n",
    "model.add(Dense(1, activation=\"sigmoid\"))\n",
    "\n",
    "model.summary()\n",
    "'''\n",
    "model = Sequential()\n",
    "model.add(Dense(16, activation='relu'))\n",
    "model.add(Dense(16, activation='relu'))\n",
    "model.add(Dense(16, activation='relu'))\n",
    "model.add(Dense(1, activation='sigmoid'))\n",
    "\n",
    "'''\n",
    "model = tf.keras.Sequential(\n",
    "    [\n",
    "        # Adjusted number of neurons\n",
    "        tf.keras.layers.Dense(128, activation=\"relu\", input_shape=(X.shape[-1],),\n",
    "                              kernel_regularizer=regularizers.l2(0.001)),  # L2 regularization\n",
    "        tf.keras.layers.Dropout(0.2),  # Adjusted dropout rate\n",
    "        tf.keras.layers.Dense(64, activation=\"relu\",\n",
    "                              kernel_regularizer=regularizers.l2(0.001)),  # L2 regularization\n",
    "        tf.keras.layers.Dropout(0.2),  # Adjusted dropout rate\n",
    "        tf.keras.layers.Dense(1, activation=\"sigmoid\"),\n",
    "    ]\n",
    ")\n",
    "model.summary()\n",
    "'''"
   ]
  },
  {
   "cell_type": "code",
   "execution_count": 134,
   "id": "c653c741",
   "metadata": {},
   "outputs": [
    {
     "name": "stdout",
     "output_type": "stream",
     "text": [
      "Epoch 1/20\n",
      "\u001b[1m4917/4917\u001b[0m \u001b[32m━━━━━━━━━━━━━━━━━━━━\u001b[0m\u001b[37m\u001b[0m \u001b[1m5s\u001b[0m 840us/step - accuracy: 0.8646 - loss: 0.3758 - val_accuracy: 0.9684 - val_loss: 0.1077\n",
      "Epoch 2/20\n",
      "\u001b[1m4917/4917\u001b[0m \u001b[32m━━━━━━━━━━━━━━━━━━━━\u001b[0m\u001b[37m\u001b[0m \u001b[1m4s\u001b[0m 779us/step - accuracy: 0.9720 - loss: 0.0909 - val_accuracy: 0.9788 - val_loss: 0.0679\n",
      "Epoch 3/20\n",
      "\u001b[1m4917/4917\u001b[0m \u001b[32m━━━━━━━━━━━━━━━━━━━━\u001b[0m\u001b[37m\u001b[0m \u001b[1m4s\u001b[0m 766us/step - accuracy: 0.9795 - loss: 0.0627 - val_accuracy: 0.9835 - val_loss: 0.0510\n",
      "Epoch 4/20\n",
      "\u001b[1m4917/4917\u001b[0m \u001b[32m━━━━━━━━━━━━━━━━━━━━\u001b[0m\u001b[37m\u001b[0m \u001b[1m4s\u001b[0m 750us/step - accuracy: 0.9843 - loss: 0.0479 - val_accuracy: 0.9878 - val_loss: 0.0406\n",
      "Epoch 5/20\n",
      "\u001b[1m4917/4917\u001b[0m \u001b[32m━━━━━━━━━━━━━━━━━━━━\u001b[0m\u001b[37m\u001b[0m \u001b[1m4s\u001b[0m 746us/step - accuracy: 0.9878 - loss: 0.0393 - val_accuracy: 0.9894 - val_loss: 0.0342\n",
      "Epoch 6/20\n",
      "\u001b[1m4917/4917\u001b[0m \u001b[32m━━━━━━━━━━━━━━━━━━━━\u001b[0m\u001b[37m\u001b[0m \u001b[1m4s\u001b[0m 787us/step - accuracy: 0.9903 - loss: 0.0321 - val_accuracy: 0.9911 - val_loss: 0.0294\n",
      "Epoch 7/20\n",
      "\u001b[1m4917/4917\u001b[0m \u001b[32m━━━━━━━━━━━━━━━━━━━━\u001b[0m\u001b[37m\u001b[0m \u001b[1m4s\u001b[0m 793us/step - accuracy: 0.9915 - loss: 0.0281 - val_accuracy: 0.9920 - val_loss: 0.0264\n",
      "Epoch 8/20\n",
      "\u001b[1m4917/4917\u001b[0m \u001b[32m━━━━━━━━━━━━━━━━━━━━\u001b[0m\u001b[37m\u001b[0m \u001b[1m4s\u001b[0m 779us/step - accuracy: 0.9930 - loss: 0.0247 - val_accuracy: 0.9926 - val_loss: 0.0244\n",
      "Epoch 9/20\n",
      "\u001b[1m4917/4917\u001b[0m \u001b[32m━━━━━━━━━━━━━━━━━━━━\u001b[0m\u001b[37m\u001b[0m \u001b[1m4s\u001b[0m 793us/step - accuracy: 0.9929 - loss: 0.0231 - val_accuracy: 0.9927 - val_loss: 0.0229\n",
      "Epoch 10/20\n",
      "\u001b[1m4917/4917\u001b[0m \u001b[32m━━━━━━━━━━━━━━━━━━━━\u001b[0m\u001b[37m\u001b[0m \u001b[1m4s\u001b[0m 783us/step - accuracy: 0.9939 - loss: 0.0210 - val_accuracy: 0.9930 - val_loss: 0.0215\n",
      "Epoch 11/20\n",
      "\u001b[1m4917/4917\u001b[0m \u001b[32m━━━━━━━━━━━━━━━━━━━━\u001b[0m\u001b[37m\u001b[0m \u001b[1m4s\u001b[0m 784us/step - accuracy: 0.9937 - loss: 0.0204 - val_accuracy: 0.9935 - val_loss: 0.0209\n",
      "Epoch 12/20\n",
      "\u001b[1m4917/4917\u001b[0m \u001b[32m━━━━━━━━━━━━━━━━━━━━\u001b[0m\u001b[37m\u001b[0m \u001b[1m4s\u001b[0m 774us/step - accuracy: 0.9943 - loss: 0.0191 - val_accuracy: 0.9947 - val_loss: 0.0201\n",
      "Epoch 13/20\n",
      "\u001b[1m4917/4917\u001b[0m \u001b[32m━━━━━━━━━━━━━━━━━━━━\u001b[0m\u001b[37m\u001b[0m \u001b[1m4s\u001b[0m 781us/step - accuracy: 0.9947 - loss: 0.0184 - val_accuracy: 0.9942 - val_loss: 0.0184\n",
      "Epoch 14/20\n",
      "\u001b[1m4917/4917\u001b[0m \u001b[32m━━━━━━━━━━━━━━━━━━━━\u001b[0m\u001b[37m\u001b[0m \u001b[1m4s\u001b[0m 769us/step - accuracy: 0.9947 - loss: 0.0174 - val_accuracy: 0.9941 - val_loss: 0.0177\n",
      "Epoch 15/20\n",
      "\u001b[1m4917/4917\u001b[0m \u001b[32m━━━━━━━━━━━━━━━━━━━━\u001b[0m\u001b[37m\u001b[0m \u001b[1m4s\u001b[0m 752us/step - accuracy: 0.9947 - loss: 0.0172 - val_accuracy: 0.9941 - val_loss: 0.0173\n",
      "Epoch 16/20\n",
      "\u001b[1m4917/4917\u001b[0m \u001b[32m━━━━━━━━━━━━━━━━━━━━\u001b[0m\u001b[37m\u001b[0m \u001b[1m4s\u001b[0m 759us/step - accuracy: 0.9954 - loss: 0.0157 - val_accuracy: 0.9951 - val_loss: 0.0164\n",
      "Epoch 17/20\n",
      "\u001b[1m4917/4917\u001b[0m \u001b[32m━━━━━━━━━━━━━━━━━━━━\u001b[0m\u001b[37m\u001b[0m \u001b[1m4s\u001b[0m 753us/step - accuracy: 0.9952 - loss: 0.0155 - val_accuracy: 0.9949 - val_loss: 0.0159\n",
      "Epoch 18/20\n",
      "\u001b[1m4917/4917\u001b[0m \u001b[32m━━━━━━━━━━━━━━━━━━━━\u001b[0m\u001b[37m\u001b[0m \u001b[1m4s\u001b[0m 754us/step - accuracy: 0.9954 - loss: 0.0151 - val_accuracy: 0.9959 - val_loss: 0.0152\n",
      "Epoch 19/20\n",
      "\u001b[1m4917/4917\u001b[0m \u001b[32m━━━━━━━━━━━━━━━━━━━━\u001b[0m\u001b[37m\u001b[0m \u001b[1m4s\u001b[0m 761us/step - accuracy: 0.9957 - loss: 0.0147 - val_accuracy: 0.9952 - val_loss: 0.0146\n",
      "Epoch 20/20\n",
      "\u001b[1m4917/4917\u001b[0m \u001b[32m━━━━━━━━━━━━━━━━━━━━\u001b[0m\u001b[37m\u001b[0m \u001b[1m4s\u001b[0m 790us/step - accuracy: 0.9956 - loss: 0.0142 - val_accuracy: 0.9958 - val_loss: 0.0143\n"
     ]
    }
   ],
   "source": [
    "from keras.callbacks import EarlyStopping\n",
    "from keras.optimizers import Adam\n",
    "\n",
    "model.compile(optimizer=Adam(learning_rate=0.0001), #0.0001\n",
    "              loss='binary_crossentropy', \n",
    "              metrics=['accuracy'])\n",
    "\n",
    "\n",
    "# configure early stopping\n",
    "#es = EarlyStopping(monitor='val_loss', mode='min', verbose=1, patience=5)\n",
    "\n",
    "# calculate class weights\n",
    "neg, pos = np.bincount(y_train)\n",
    "total = neg + pos\n",
    "class_weight = {0: 1, 1: 5}\n",
    "\n",
    "# train the model\n",
    "#history = model.fit(X_train, y_train, validation_data=(X_val, y_val), epochs=100, callbacks=[es])\n",
    "history = model.fit(X_train, y_train, validation_data=(X_val, y_val), epochs=20) #epochs=100"
   ]
  },
  {
   "cell_type": "code",
   "execution_count": 135,
   "id": "53e53270-901e-4cd0-bdd9-a5e4de48a6b1",
   "metadata": {},
   "outputs": [],
   "source": [
    "# results"
   ]
  },
  {
   "cell_type": "code",
   "execution_count": 136,
   "id": "adfae88d",
   "metadata": {},
   "outputs": [
    {
     "data": {
      "text/plain": [
       "[]"
      ]
     },
     "execution_count": 136,
     "metadata": {},
     "output_type": "execute_result"
    },
    {
     "data": {
      "image/png": "[encoded data removed]",
      "text/plain": [
       "<Figure size 640x480 with 1 Axes>"
      ]
     },
     "metadata": {},
     "output_type": "display_data"
    }
   ],
   "source": [
    "import matplotlib.pyplot as plt\n",
    "%matplotlib inline\n",
    "import seaborn as sns\n",
    "sns.set()\n",
    "\n",
    "loss_values = history.history[\"loss\"]\n",
    "val_loss_values = history.history[\"val_loss\"]\n",
    "acc = history.history[\"accuracy\"]\n",
    "val = history.history[\"val_accuracy\"]\n",
    "epochs = range(1, len(acc) + 1)\n",
    "\n",
    "plt.plot(epochs, acc, '-', label='Training accuracy')\n",
    "plt.plot(epochs, val, ':', label='Validation accuracy')\n",
    "plt.title('Training and Validation Accuracy')\n",
    "plt.xlabel('Epoch')\n",
    "plt.ylabel('Accuracy')\n",
    "plt.legend(loc='lower right')\n",
    "plt.plot()"
   ]
  },
  {
   "cell_type": "code",
   "execution_count": 137,
   "id": "a274715b-4c8c-4ee5-bd9d-05b6ccbad348",
   "metadata": {},
   "outputs": [
    {
     "data": {
      "image/png": "[encoded data removed]",
      "text/plain": [
       "<Figure size 640x480 with 1 Axes>"
      ]
     },
     "metadata": {},
     "output_type": "display_data"
    }
   ],
   "source": [
    "epochs = range(1, len(loss_values) + 1)\n",
    "plt.plot(epochs, loss_values, \"bo\", label=\"Training loss\")\n",
    "plt.plot(epochs, val_loss_values, \"b\", label=\"Validation loss\")\n",
    "plt.title(\"Training and validation loss\")\n",
    "plt.xlabel(\"Epochs\")\n",
    "plt.ylabel(\"Loss\")\n",
    "plt.legend()\n",
    "plt.show()"
   ]
  },
  {
   "cell_type": "code",
   "execution_count": 138,
   "id": "835d65a5",
   "metadata": {},
   "outputs": [
    {
     "name": "stdout",
     "output_type": "stream",
     "text": [
      "\u001b[1m4371/4371\u001b[0m \u001b[32m━━━━━━━━━━━━━━━━━━━━\u001b[0m\u001b[37m\u001b[0m \u001b[1m2s\u001b[0m 508us/step\n"
     ]
    },
    {
     "data": {
      "text/plain": [
       "Text(110.44999999999997, 0.5, 'Actual label')"
      ]
     },
     "execution_count": 138,
     "metadata": {},
     "output_type": "execute_result"
    },
    {
     "data": {
      "image/png": "[encoded data removed]",
      "text/plain": [
       "<Figure size 640x480 with 1 Axes>"
      ]
     },
     "metadata": {},
     "output_type": "display_data"
    }
   ],
   "source": [
    "from sklearn.metrics import confusion_matrix\n",
    " \n",
    "y_predicted = model.predict(X_test) > 0.5\n",
    "mat = confusion_matrix(y_test, y_predicted)\n",
    "labels = ['Legitimate', 'Fraudulent']\n",
    " \n",
    "sns.heatmap(mat, square=True, annot=True, fmt='d', cbar=False, cmap='Blues',\n",
    "            xticklabels=labels, yticklabels=labels)\n",
    " \n",
    "plt.xlabel('Predicted label')\n",
    "plt.ylabel('Actual label')"
   ]
  },
  {
   "cell_type": "code",
   "execution_count": 139,
   "id": "20b188bc",
   "metadata": {},
   "outputs": [
    {
     "data": {
      "text/plain": [
       "104470"
      ]
     },
     "execution_count": 139,
     "metadata": {},
     "output_type": "execute_result"
    }
   ],
   "source": [
    "true_legitimate = 0\n",
    "true_fraudulent = 0\n",
    "false_legitimate = 0\n",
    "false_fraudulent = 0\n",
    "\n",
    "for i in range(0, len(y_predicted)):\n",
    "    if y_predicted[i] and y_test.iloc[i]:\n",
    "        true_fraudulent+=1\n",
    "    elif y_predicted[i] and (not y_test.iloc[i]):\n",
    "        false_fraudulent+=1\n",
    "    elif (not y_predicted[i]) and y_test.iloc[i]:\n",
    "        false_legitimate+=1\n",
    "    elif (not y_predicted[i]) and (not y_test.iloc[i]):\n",
    "        true_legitimate+=1\n",
    "        \n",
    "\n",
    "true_legitimate"
   ]
  },
  {
   "cell_type": "code",
   "execution_count": 140,
   "id": "0473bccf",
   "metadata": {},
   "outputs": [
    {
     "name": "stdout",
     "output_type": "stream",
     "text": [
      "true legitimate: 104470\n",
      "true fraudulent: 34796\n",
      "false legitimate: 165\n",
      "false fraudulent: 414\n"
     ]
    }
   ],
   "source": [
    "print('true legitimate: ' + str(true_legitimate))\n",
    "print('true fraudulent: ' + str(true_fraudulent))\n",
    "print('false legitimate: ' + str(false_legitimate))\n",
    "print('false fraudulent: ' + str(false_fraudulent))"
   ]
  },
  {
   "cell_type": "code",
   "execution_count": 141,
   "id": "1a22a630-41ff-4ab0-bb2b-06cc69a2af0e",
   "metadata": {},
   "outputs": [
    {
     "name": "stdout",
     "output_type": "stream",
     "text": [
      "0.9958597018127212\n"
     ]
    }
   ],
   "source": [
    "test_acc = (true_legitimate + true_fraudulent)/len(y_test)\n",
    "print(test_acc)"
   ]
  },
  {
   "cell_type": "code",
   "execution_count": 142,
   "id": "f96208e9-0e06-4f2f-9585-2e3de9969692",
   "metadata": {},
   "outputs": [
    {
     "name": "stdout",
     "output_type": "stream",
     "text": [
      "Fraud Count 87403\n",
      "Length 1000000\n"
     ]
    },
    {
     "data": {
      "text/html": [
       "<div>\n",
       "<style scoped>\n",
       "    .dataframe tbody tr th:only-of-type {\n",
       "        vertical-align: middle;\n",
       "    }\n",
       "\n",
       "    .dataframe tbody tr th {\n",
       "        vertical-align: top;\n",
       "    }\n",
       "\n",
       "    .dataframe thead th {\n",
       "        text-align: right;\n",
       "    }\n",
       "</style>\n",
       "<table border=\"1\" class=\"dataframe\">\n",
       "  <thead>\n",
       "    <tr style=\"text-align: right;\">\n",
       "      <th></th>\n",
       "      <th>distance_from_home</th>\n",
       "      <th>distance_from_last_transaction</th>\n",
       "      <th>ratio_to_median_purchase_price</th>\n",
       "      <th>repeat_retailer</th>\n",
       "      <th>used_chip</th>\n",
       "      <th>used_pin_number</th>\n",
       "      <th>online_order</th>\n",
       "      <th>fraud</th>\n",
       "    </tr>\n",
       "  </thead>\n",
       "  <tbody>\n",
       "    <tr>\n",
       "      <th>999995</th>\n",
       "      <td>2.207101</td>\n",
       "      <td>0.112651</td>\n",
       "      <td>1.626798</td>\n",
       "      <td>1.0</td>\n",
       "      <td>1.0</td>\n",
       "      <td>0.0</td>\n",
       "      <td>0.0</td>\n",
       "      <td>0.0</td>\n",
       "    </tr>\n",
       "    <tr>\n",
       "      <th>999996</th>\n",
       "      <td>19.872726</td>\n",
       "      <td>2.683904</td>\n",
       "      <td>2.778303</td>\n",
       "      <td>1.0</td>\n",
       "      <td>1.0</td>\n",
       "      <td>0.0</td>\n",
       "      <td>0.0</td>\n",
       "      <td>0.0</td>\n",
       "    </tr>\n",
       "    <tr>\n",
       "      <th>999997</th>\n",
       "      <td>2.914857</td>\n",
       "      <td>1.472687</td>\n",
       "      <td>0.218075</td>\n",
       "      <td>1.0</td>\n",
       "      <td>1.0</td>\n",
       "      <td>0.0</td>\n",
       "      <td>1.0</td>\n",
       "      <td>0.0</td>\n",
       "    </tr>\n",
       "    <tr>\n",
       "      <th>999998</th>\n",
       "      <td>4.258729</td>\n",
       "      <td>0.242023</td>\n",
       "      <td>0.475822</td>\n",
       "      <td>1.0</td>\n",
       "      <td>0.0</td>\n",
       "      <td>0.0</td>\n",
       "      <td>1.0</td>\n",
       "      <td>0.0</td>\n",
       "    </tr>\n",
       "    <tr>\n",
       "      <th>999999</th>\n",
       "      <td>58.108125</td>\n",
       "      <td>0.318110</td>\n",
       "      <td>0.386920</td>\n",
       "      <td>1.0</td>\n",
       "      <td>1.0</td>\n",
       "      <td>0.0</td>\n",
       "      <td>1.0</td>\n",
       "      <td>0.0</td>\n",
       "    </tr>\n",
       "  </tbody>\n",
       "</table>\n",
       "</div>"
      ],
      "text/plain": [
       "        distance_from_home  distance_from_last_transaction  \\\n",
       "999995            2.207101                        0.112651   \n",
       "999996           19.872726                        2.683904   \n",
       "999997            2.914857                        1.472687   \n",
       "999998            4.258729                        0.242023   \n",
       "999999           58.108125                        0.318110   \n",
       "\n",
       "        ratio_to_median_purchase_price  repeat_retailer  used_chip  \\\n",
       "999995                        1.626798              1.0        1.0   \n",
       "999996                        2.778303              1.0        1.0   \n",
       "999997                        0.218075              1.0        1.0   \n",
       "999998                        0.475822              1.0        0.0   \n",
       "999999                        0.386920              1.0        1.0   \n",
       "\n",
       "        used_pin_number  online_order  fraud  \n",
       "999995              0.0           0.0    0.0  \n",
       "999996              0.0           0.0    0.0  \n",
       "999997              0.0           1.0    0.0  \n",
       "999998              0.0           1.0    0.0  \n",
       "999999              0.0           1.0    0.0  "
      ]
     },
     "execution_count": 142,
     "metadata": {},
     "output_type": "execute_result"
    }
   ],
   "source": [
    "# Read the data from the CSV file\n",
    "df = pd.read_csv('card_transdata.csv')\n",
    "\n",
    "fraud_count = df[df['fraud'] != 0].shape[0]\n",
    "print(f\"Fraud Count {fraud_count}\")\n",
    "\n",
    "length_before = df.shape[0]\n",
    "print(f\"Length {length_before}\")\n",
    "\n",
    "df.tail()"
   ]
  },
  {
   "cell_type": "code",
   "execution_count": 143,
   "id": "76c5ca7e-d4fb-4d58-aa13-b539414e384d",
   "metadata": {},
   "outputs": [
    {
     "name": "stdout",
     "output_type": "stream",
     "text": [
      "Duplicated values dropped succesfully\n",
      "The length before 1000000 length after 1000000\n"
     ]
    }
   ],
   "source": [
    "## drop duplicates\n",
    "\n",
    "df.drop_duplicates(inplace=True)\n",
    "print(\"Duplicated values dropped succesfully\")\n",
    "\n",
    "length_after = df.shape[0]\n",
    "\n",
    "print(f\"The length before {length_before} length after {length_after}\")"
   ]
  },
  {
   "cell_type": "code",
   "execution_count": 144,
   "id": "0d14160b-8350-424a-8ec7-7aa393c4a51e",
   "metadata": {},
   "outputs": [
    {
     "data": {
      "text/html": [
       "<div>\n",
       "<style scoped>\n",
       "    .dataframe tbody tr th:only-of-type {\n",
       "        vertical-align: middle;\n",
       "    }\n",
       "\n",
       "    .dataframe tbody tr th {\n",
       "        vertical-align: top;\n",
       "    }\n",
       "\n",
       "    .dataframe thead th {\n",
       "        text-align: right;\n",
       "    }\n",
       "</style>\n",
       "<table border=\"1\" class=\"dataframe\">\n",
       "  <thead>\n",
       "    <tr style=\"text-align: right;\">\n",
       "      <th></th>\n",
       "      <th>distance_from_home</th>\n",
       "      <th>distance_from_last_transaction</th>\n",
       "      <th>ratio_to_median_purchase_price</th>\n",
       "      <th>repeat_retailer</th>\n",
       "      <th>used_chip</th>\n",
       "      <th>used_pin_number</th>\n",
       "      <th>online_order</th>\n",
       "    </tr>\n",
       "  </thead>\n",
       "  <tbody>\n",
       "    <tr>\n",
       "      <th>0</th>\n",
       "      <td>57.877857</td>\n",
       "      <td>0.311140</td>\n",
       "      <td>1.945940</td>\n",
       "      <td>1.0</td>\n",
       "      <td>1.0</td>\n",
       "      <td>0.0</td>\n",
       "      <td>0.0</td>\n",
       "    </tr>\n",
       "    <tr>\n",
       "      <th>1</th>\n",
       "      <td>10.829943</td>\n",
       "      <td>0.175592</td>\n",
       "      <td>1.294219</td>\n",
       "      <td>1.0</td>\n",
       "      <td>0.0</td>\n",
       "      <td>0.0</td>\n",
       "      <td>0.0</td>\n",
       "    </tr>\n",
       "    <tr>\n",
       "      <th>2</th>\n",
       "      <td>5.091079</td>\n",
       "      <td>0.805153</td>\n",
       "      <td>0.427715</td>\n",
       "      <td>1.0</td>\n",
       "      <td>0.0</td>\n",
       "      <td>0.0</td>\n",
       "      <td>1.0</td>\n",
       "    </tr>\n",
       "    <tr>\n",
       "      <th>3</th>\n",
       "      <td>2.247564</td>\n",
       "      <td>5.600044</td>\n",
       "      <td>0.362663</td>\n",
       "      <td>1.0</td>\n",
       "      <td>1.0</td>\n",
       "      <td>0.0</td>\n",
       "      <td>1.0</td>\n",
       "    </tr>\n",
       "    <tr>\n",
       "      <th>4</th>\n",
       "      <td>44.190936</td>\n",
       "      <td>0.566486</td>\n",
       "      <td>2.222767</td>\n",
       "      <td>1.0</td>\n",
       "      <td>1.0</td>\n",
       "      <td>0.0</td>\n",
       "      <td>1.0</td>\n",
       "    </tr>\n",
       "    <tr>\n",
       "      <th>...</th>\n",
       "      <td>...</td>\n",
       "      <td>...</td>\n",
       "      <td>...</td>\n",
       "      <td>...</td>\n",
       "      <td>...</td>\n",
       "      <td>...</td>\n",
       "      <td>...</td>\n",
       "    </tr>\n",
       "    <tr>\n",
       "      <th>999995</th>\n",
       "      <td>2.207101</td>\n",
       "      <td>0.112651</td>\n",
       "      <td>1.626798</td>\n",
       "      <td>1.0</td>\n",
       "      <td>1.0</td>\n",
       "      <td>0.0</td>\n",
       "      <td>0.0</td>\n",
       "    </tr>\n",
       "    <tr>\n",
       "      <th>999996</th>\n",
       "      <td>19.872726</td>\n",
       "      <td>2.683904</td>\n",
       "      <td>2.778303</td>\n",
       "      <td>1.0</td>\n",
       "      <td>1.0</td>\n",
       "      <td>0.0</td>\n",
       "      <td>0.0</td>\n",
       "    </tr>\n",
       "    <tr>\n",
       "      <th>999997</th>\n",
       "      <td>2.914857</td>\n",
       "      <td>1.472687</td>\n",
       "      <td>0.218075</td>\n",
       "      <td>1.0</td>\n",
       "      <td>1.0</td>\n",
       "      <td>0.0</td>\n",
       "      <td>1.0</td>\n",
       "    </tr>\n",
       "    <tr>\n",
       "      <th>999998</th>\n",
       "      <td>4.258729</td>\n",
       "      <td>0.242023</td>\n",
       "      <td>0.475822</td>\n",
       "      <td>1.0</td>\n",
       "      <td>0.0</td>\n",
       "      <td>0.0</td>\n",
       "      <td>1.0</td>\n",
       "    </tr>\n",
       "    <tr>\n",
       "      <th>999999</th>\n",
       "      <td>58.108125</td>\n",
       "      <td>0.318110</td>\n",
       "      <td>0.386920</td>\n",
       "      <td>1.0</td>\n",
       "      <td>1.0</td>\n",
       "      <td>0.0</td>\n",
       "      <td>1.0</td>\n",
       "    </tr>\n",
       "  </tbody>\n",
       "</table>\n",
       "<p>1000000 rows × 7 columns</p>\n",
       "</div>"
      ],
      "text/plain": [
       "        distance_from_home  distance_from_last_transaction  \\\n",
       "0                57.877857                        0.311140   \n",
       "1                10.829943                        0.175592   \n",
       "2                 5.091079                        0.805153   \n",
       "3                 2.247564                        5.600044   \n",
       "4                44.190936                        0.566486   \n",
       "...                    ...                             ...   \n",
       "999995            2.207101                        0.112651   \n",
       "999996           19.872726                        2.683904   \n",
       "999997            2.914857                        1.472687   \n",
       "999998            4.258729                        0.242023   \n",
       "999999           58.108125                        0.318110   \n",
       "\n",
       "        ratio_to_median_purchase_price  repeat_retailer  used_chip  \\\n",
       "0                             1.945940              1.0        1.0   \n",
       "1                             1.294219              1.0        0.0   \n",
       "2                             0.427715              1.0        0.0   \n",
       "3                             0.362663              1.0        1.0   \n",
       "4                             2.222767              1.0        1.0   \n",
       "...                                ...              ...        ...   \n",
       "999995                        1.626798              1.0        1.0   \n",
       "999996                        2.778303              1.0        1.0   \n",
       "999997                        0.218075              1.0        1.0   \n",
       "999998                        0.475822              1.0        0.0   \n",
       "999999                        0.386920              1.0        1.0   \n",
       "\n",
       "        used_pin_number  online_order  \n",
       "0                   0.0           0.0  \n",
       "1                   0.0           0.0  \n",
       "2                   0.0           1.0  \n",
       "3                   0.0           1.0  \n",
       "4                   0.0           1.0  \n",
       "...                 ...           ...  \n",
       "999995              0.0           0.0  \n",
       "999996              0.0           0.0  \n",
       "999997              0.0           1.0  \n",
       "999998              0.0           1.0  \n",
       "999999              0.0           1.0  \n",
       "\n",
       "[1000000 rows x 7 columns]"
      ]
     },
     "execution_count": 144,
     "metadata": {},
     "output_type": "execute_result"
    }
   ],
   "source": [
    "X = df.drop([\"fraud\"], axis=1)\n",
    "Y = df[\"fraud\"]\n",
    "\n",
    "X"
   ]
  },
  {
   "cell_type": "code",
   "execution_count": 145,
   "id": "eec66e73-18b8-4759-bf38-7e0b73316f5e",
   "metadata": {},
   "outputs": [
    {
     "data": {
      "text/plain": [
       "array([[ 0.47788202, -0.18284892,  0.04349141, ...,  1.36157608,\n",
       "        -0.33445812, -1.36442519],\n",
       "       [-0.24160679, -0.18809398, -0.18930045, ..., -0.73444298,\n",
       "        -0.33445812, -1.36442519],\n",
       "       [-0.3293694 , -0.16373307, -0.49881185, ..., -0.73444298,\n",
       "        -0.33445812,  0.73290937],\n",
       "       ...,\n",
       "       [-0.36264968, -0.13790278, -0.57369398, ...,  1.36157608,\n",
       "        -0.33445812,  0.73290937],\n",
       "       [-0.34209827, -0.1855234 , -0.48162807, ..., -0.73444298,\n",
       "        -0.33445812,  0.73290937],\n",
       "       [ 0.48140344, -0.18257921, -0.51338354, ...,  1.36157608,\n",
       "        -0.33445812,  0.73290937]])"
      ]
     },
     "execution_count": 145,
     "metadata": {},
     "output_type": "execute_result"
    }
   ],
   "source": [
    "#normalize\n",
    "scaler = StandardScaler()\n",
    "X = scaler.fit_transform(X) # should this be fit_transform()???\n",
    "\n",
    "X"
   ]
  },
  {
   "cell_type": "code",
   "execution_count": 146,
   "id": "cd6c7698-c35e-4857-a50d-dd2b4e950619",
   "metadata": {},
   "outputs": [
    {
     "name": "stdout",
     "output_type": "stream",
     "text": [
      "\u001b[1m31250/31250\u001b[0m \u001b[32m━━━━━━━━━━━━━━━━━━━━\u001b[0m\u001b[37m\u001b[0m \u001b[1m16s\u001b[0m 499us/step\n"
     ]
    },
    {
     "data": {
      "text/plain": [
       "Text(110.44999999999997, 0.5, 'Actual label')"
      ]
     },
     "execution_count": 146,
     "metadata": {},
     "output_type": "execute_result"
    },
    {
     "data": {
      "image/png": "[encoded data removed]",
      "text/plain": [
       "<Figure size 640x480 with 1 Axes>"
      ]
     },
     "metadata": {},
     "output_type": "display_data"
    }
   ],
   "source": [
    "y_predicted = model.predict(X) > 0.5\n",
    "mat = confusion_matrix(Y, y_predicted)\n",
    "labels = ['Legitimate', 'Fraudulent']\n",
    " \n",
    "sns.heatmap(mat, square=True, annot=True, fmt='d', cbar=False, cmap='Blues',\n",
    "            xticklabels=labels, yticklabels=labels)\n",
    " \n",
    "plt.xlabel('Predicted label')\n",
    "plt.ylabel('Actual label')"
   ]
  },
  {
   "cell_type": "code",
   "execution_count": 147,
   "id": "a2253522",
   "metadata": {},
   "outputs": [
    {
     "name": "stdout",
     "output_type": "stream",
     "text": [
      "              precision    recall  f1-score   support\n",
      "\n",
      "  Legitimate       1.00      0.94      0.97    912597\n",
      "  Fraudulent       0.62      1.00      0.76     87403\n",
      "\n",
      "    accuracy                           0.95   1000000\n",
      "   macro avg       0.81      0.97      0.87   1000000\n",
      "weighted avg       0.97      0.95      0.95   1000000\n",
      "\n"
     ]
    }
   ],
   "source": [
    "from sklearn.metrics import classification_report\n",
    "# View the classification report for test data and predictions\n",
    "print(classification_report(Y, y_predicted, target_names=labels))"
   ]
  },
  {
   "cell_type": "code",
   "execution_count": 148,
   "id": "408049cd-76c6-4e5f-8324-83e1a5533099",
   "metadata": {},
   "outputs": [
    {
     "data": {
      "text/plain": [
       "858944"
      ]
     },
     "execution_count": 148,
     "metadata": {},
     "output_type": "execute_result"
    }
   ],
   "source": [
    "true_legitimate = 0\n",
    "true_fraudulent = 0\n",
    "false_legitimate = 0\n",
    "false_fraudulent = 0\n",
    "\n",
    "for i in range(0, len(y_predicted)):\n",
    "    if y_predicted[i] and Y.iloc[i]:\n",
    "        true_fraudulent+=1\n",
    "    elif y_predicted[i] and (not Y.iloc[i]):\n",
    "        false_fraudulent+=1\n",
    "    elif (not y_predicted[i]) and Y.iloc[i]:\n",
    "        false_legitimate+=1\n",
    "    elif (not y_predicted[i]) and (not Y.iloc[i]):\n",
    "        true_legitimate+=1\n",
    "        \n",
    "\n",
    "true_legitimate"
   ]
  },
  {
   "cell_type": "code",
   "execution_count": 149,
   "id": "871548a8-0986-44ae-b7c7-e697730d1088",
   "metadata": {},
   "outputs": [
    {
     "name": "stdout",
     "output_type": "stream",
     "text": [
      "true legitimate: 858944\n",
      "true fraudulent: 87363\n",
      "false legitimate: 40\n",
      "false fraudulent: 53653\n"
     ]
    }
   ],
   "source": [
    "print('true legitimate: ' + str(true_legitimate))\n",
    "print('true fraudulent: ' + str(true_fraudulent))\n",
    "print('false legitimate: ' + str(false_legitimate))\n",
    "print('false fraudulent: ' + str(false_fraudulent))"
   ]
  },
  {
   "cell_type": "code",
   "execution_count": 150,
   "id": "618ab9a0-36a7-4b4e-a9f0-3821e44b796c",
   "metadata": {},
   "outputs": [
    {
     "name": "stdout",
     "output_type": "stream",
     "text": [
      "0.946307\n"
     ]
    }
   ],
   "source": [
    "test_acc = (true_legitimate + true_fraudulent)/len(Y)\n",
    "print(test_acc)"
   ]
  }
 ],
 "metadata": {
  "kernelspec": {
   "display_name": "Python 3 (ipykernel)",
   "language": "python",
   "name": "python3"
  },
  "language_info": {
   "codemirror_mode": {
    "name": "ipython",
    "version": 3
   },
   "file_extension": ".py",
   "mimetype": "text/x-python",
   "name": "python",
   "nbconvert_exporter": "python",
   "pygments_lexer": "ipython3",
   "version": "3.11.3"
  }
 },
 "nbformat": 4,
 "nbformat_minor": 5
}
